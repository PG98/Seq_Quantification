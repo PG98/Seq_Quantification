{
 "cells": [
  {
   "cell_type": "code",
   "execution_count": 1,
   "metadata": {
    "collapsed": true
   },
   "outputs": [],
   "source": [
    "import os\n",
    "import re\n",
    "import pandas as pd\n",
    "import time\n",
    "def getTime():\n",
    "    return time.strftime(\"%Y-%m-%d %H:%M:%S\",time.localtime(time.time()))"
   ]
  },
  {
   "cell_type": "markdown",
   "metadata": {},
   "source": [
    "## Goal\n",
    "\n",
    " For a given chromosome *chr* and genomic distance d, this function maps conservation scores to all regions within d bp from the TSS of every gene in chromosome *chr*.\n",
    " * parse the conservation dataset to extract the relevant values according to genomic loci\n",
    " * do some validationt to verify that the anticipated output matches the actual output"
   ]
  },
  {
   "cell_type": "markdown",
   "metadata": {},
   "source": [
    "## Alter the R code to python and fix bugs\n",
    "\n",
    "* function1: parse wiggle headers\n",
    "        - Parameters: chr\n",
    "        - Output: a table containing header info of one .wig file ( 'start' col)\n",
    "\n",
    "* function2: iterate through the whole wiggle for once, and fill in the result matrix \n",
    "    - save to files instead of only returning a dataFrame\n",
    "\n",
    "* further: support BED"
   ]
  },
  {
   "cell_type": "markdown",
   "metadata": {},
   "source": [
    "### wiggle parser\n",
    "* 'readline' method: reads the entire file contents into memory first, so no\n",
    "```\n",
    "print open('xxx.txt').readlines()[:7][-1]\n",
    "```\n",
    "\n",
    "* Instead, use the original file iterator, which is more performant for large files.\n",
    "    - using 'islice' is slower than 'with open()'\n",
    "    \n",
    "* deal with 'fixedStep' of wiggle only(for now)"
   ]
  },
  {
   "cell_type": "code",
   "execution_count": 11,
   "metadata": {},
   "outputs": [],
   "source": [
    "# ParseError: Raised if the wiggle track has invalid content.\n",
    "class ParseError(Exception):\n",
    "    pass \n",
    "\n",
    "# state: wiggle track header info(dictionary) mode = 0 for fixed; 1 for variable\n",
    "def createState():\n",
    "    return dict(mode=0, span=1, start=None, step=None)\n",
    "\n",
    "# ********wiggleHeaderReader*******\n",
    "# parameter: a wiggle header line;   output: a dictionary\n",
    "# TODO: put 'span' into consideration (an optional parameter for wiggle format)\n",
    "def wiggleHeaderReader(line, state):\n",
    "        if line[:12]=='variableStep':\n",
    "            try:\n",
    "                fields = dict(map(lambda field: field.split('='), line[len('variableStep'):].split()))\n",
    "                state['mode'] = 1\n",
    "                state['span'] = int(fields.get('span', 1))\n",
    "                return fields.get('chrom')\n",
    "            except (ValueError, KeyError):\n",
    "                raise parseError('Could not parse header: %s'%line)\n",
    "        elif line[:9]=='fixedStep':\n",
    "            try:\n",
    "                fields = dict(map(lambda field: field.split('='), line[len('fixedStep'):].split()))\n",
    "                state['mode'] = 1\n",
    "                state['step'] = int(fields.get('step', 1))\n",
    "                state['span'] = int(fields.get('span', 1))\n",
    "                state['start'] = int(fields.get('start', 1))\n",
    "                return fields.get('chrom')\n",
    "            except(ValueError, KeyError):\n",
    "                raise ParseError('Could not parse header: %s'%line)\n",
    "\n",
    "                \n",
    "# ******wiggleParser()******\n",
    "# parameter: wiggle file path;    output: a table containing line numbers of all headers and their info(start, step)\n",
    "def wiggleParser(wigglepath):\n",
    "    state = createState()\n",
    "    df = pd.DataFrame(columns=['line', 'step'])\n",
    "    with open(wigglepath) as f:\n",
    "        for i, line in enumerate(f):\n",
    "            if line[:9] == 'fixedStep':\n",
    "                chrom = wiggleHeaderReader(line, state)\n",
    "                temp = pd.DataFrame({'step':state.get('step'), 'line':i}, index=[state.get('start')])\n",
    "                df = df.append(temp)\n",
    "            # empty lines and comments may exist?\n",
    "            elif line in ('\\n', '\\r\\n', '\\r')  or line[0] in '0123456789.-' or line[:7] == 'browser'  or line[:5] == 'track' or line[0] == '#':\n",
    "                pass\n",
    "            else:\n",
    "                raise ParseError('Invalid content: %s, line number:%d'%(line, i))\n",
    "    return  df,chrom\n",
    "\n",
    "#********getWiggleLine(tss)**********\n",
    "# parameter: tss of interest(array); wiggle dataframe  output: relevant line number in wiggle track \n",
    "def getWiggleLine(TSS, df):\n",
    "    index = df.index.tolist() \n",
    "    cur = 0; line = 0; step = 1; TSS_map = []\n",
    "    for i in TSS:\n",
    "        # TODO:\n",
    "        while i>index[cur+1]:\n",
    "            cur+=1\n",
    "            line = df.loc[index[cur]]['line']\n",
    "            step = df.loc[index[cur]]['step']\n",
    "        l = line + (i-index[cur])/step\n",
    "        TSS_map.append(l)\n",
    "    return TSS_map\n",
    "            \n",
    "# ******get_cons_score()******\n",
    "# Combine two R functions together. Since the TSS coordinates in a chromosome are in ascending order, the matrix can be \n",
    "# obtained by one iteration throughout the wiggle file.\n",
    "# parameters: filepath, transcripts annotation file path(any standard gtf containing 'start' and 'seqname'), desired distance d\n",
    "# TODO: deal with inconsistent 'step'\n",
    "def getConsScore(wigpath, transPath, d):\n",
    "    df, chrom = wiggleParser(wigpath)\n",
    "    chrom = int( re.sub('\\D','',chrom) ) # 'chr1' -> 1\n",
    "    headers = df.index.tolist() # each start site in wiggle track\n",
    "#    trans = pd.read_csv('transcript.GRCh38.92.gtf', sep='\\t', usecols=['seqnames','transcript_id','gene_id','start','end'])\n",
    "    trans = pd.read_csv(transPath, sep='\\t', usecols=['seqnames','transcript_id','gene_id','start','end'])\n",
    "    trans = trans[trans['seqnames'==chrom]]\n",
    "    TSS = trans['start'].tolist()\n",
    "    TSS_map = getWiggleLine(TSS, df)\n",
    "    nTSS = len(TSS)\n",
    "    # iterate TSS array: enumerate through wiggle track, for each TSS, return a list of length d\n",
    "    # To fill in the matrix with 1 iteration, consider when 'd' is large or neighboring TSS are close, there will be intersections.\n",
    "    df = pd.DataFrame(columns = ['chr', 'gene_id', 'transcript_id', 'start', 'end'] + list(range(d+1)))\n",
    "    with open(wigpath) as f:\n",
    "        start, end = 0, 0\n",
    "        for i, line in enumerate(f):\n",
    "            if i<TSS_map[0]-d-1:\n",
    "                continue\n",
    "            while TSS_map[start]<i:\n",
    "                start+=1\n",
    "            while TSS_map[end+1]-d<i:\n",
    "                end+=1\n",
    "        k = start\n",
    "        # initiate dataframe, col:0-d\n",
    "        while k<=end:\n",
    "            ind = df.set_value('row', 'col', value)\n",
    "            k+=1\n",
    "            \n",
    "    "
   ]
  },
  {
   "cell_type": "code",
   "execution_count": 8,
   "metadata": {},
   "outputs": [
    {
     "name": "stdout",
     "output_type": "stream",
     "text": [
      "2018-08-21 11:05:54\n",
      "2018-08-21 11:06:07\n"
     ]
    }
   ],
   "source": [
    "print(getTime())\n",
    "#df, chrom = wiggleParser('chr21')\n",
    "df, chrom = wiggleParser('wig/chr21.phyloP30way.wigFix')\n",
    "print(getTime())"
   ]
  },
  {
   "cell_type": "code",
   "execution_count": 9,
   "metadata": {
    "scrolled": true
   },
   "outputs": [
    {
     "data": {
      "text/plain": [
       "{'mode': 0, 'span': 1, 'start': None, 'step': None}"
      ]
     },
     "execution_count": 9,
     "metadata": {},
     "output_type": "execute_result"
    }
   ],
   "source": [
    "state = createState()\n",
    "wiggleHeaderReader('wig/chr1.phyloP30way.wigFix', state)\n",
    "state"
   ]
  },
  {
   "cell_type": "code",
   "execution_count": 3,
   "metadata": {
    "scrolled": true
   },
   "outputs": [
    {
     "name": "stderr",
     "output_type": "stream",
     "text": [
      "/home/sjchen/anaconda3/lib/python3.6/site-packages/IPython/core/interactiveshell.py:2717: DtypeWarning: Columns (1) have mixed types. Specify dtype option on import or set low_memory=False.\n",
      "  interactivity=interactivity, compiler=compiler, result=result)\n"
     ]
    }
   ],
   "source": [
    "trans = pd.read_csv('transcript.GRCh38.92.gtf', sep='\\t', usecols=['seqnames','transcript_id','gene_id','start','end'])"
   ]
  },
  {
   "cell_type": "code",
   "execution_count": 4,
   "metadata": {},
   "outputs": [
    {
     "data": {
      "text/plain": [
       "203742"
      ]
     },
     "execution_count": 4,
     "metadata": {},
     "output_type": "execute_result"
    }
   ],
   "source": [
    "type(trans.iloc[:,0])\n",
    "len(trans.iloc[:,0])\n",
    "# the seqnames problem is probably due to multiple datatype in one columns\n",
    "# record bugs from now on as a part of work diary"
   ]
  },
  {
   "cell_type": "code",
   "execution_count": 2,
   "metadata": {
    "scrolled": true
   },
   "outputs": [],
   "source": [
    "# print(df.head(10))\n",
    "# chrom = 21\n",
    "# index = df.index.tolist()  #1\n",
    "# trans = pd.read_csv('transcript.GRCh38.92.gtf', sep='\\t', usecols=['seqnames','transcript_id','gene_id','start','end'])\n",
    "# trans = trans[trans.seqnames=='21']\n",
    "# TSS = trans['start'].tolist() #2\n",
    "# #df.loc[index[2]]['line']\n",
    "# cur = 0\n",
    "# line = 0\n",
    "# step = 1\n",
    "# k = 0\n",
    "# for i in TSS:\n",
    "#     # TODO:\n",
    "#     while i>index[cur]:\n",
    "#         cur+=1\n",
    "#         line = df.loc[index[cur]]['line']\n",
    "#         step = df.loc[index[cur]]['step']\n",
    "#     l = line + (i-index[cur])/step\n",
    "#     print(l)\n",
    "#     k += 1\n",
    "#     if k>10: break\n",
    "# print(cur)\n",
    "# print(index[cur])\n",
    "# print(i)"
   ]
  },
  {
   "cell_type": "code",
   "execution_count": null,
   "metadata": {
    "collapsed": true
   },
   "outputs": [],
   "source": []
  }
 ],
 "metadata": {
  "kernelspec": {
   "display_name": "Python 3",
   "language": "python",
   "name": "python3"
  },
  "language_info": {
   "codemirror_mode": {
    "name": "ipython",
    "version": 3
   },
   "file_extension": ".py",
   "mimetype": "text/x-python",
   "name": "python",
   "nbconvert_exporter": "python",
   "pygments_lexer": "ipython3",
   "version": "3.6.3"
  }
 },
 "nbformat": 4,
 "nbformat_minor": 2
}
