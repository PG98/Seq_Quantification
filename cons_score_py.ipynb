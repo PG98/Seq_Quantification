{
 "cells": [
  {
   "cell_type": "code",
   "execution_count": 16,
   "metadata": {},
   "outputs": [],
   "source": [
    "import os\n",
    "import re\n",
    "import pandas as pd\n",
    "import time\n",
    "import pdb\n",
    "def getTime():\n",
    "    return time.strftime(\"%Y-%m-%d %H:%M:%S\",time.localtime(time.time()))"
   ]
  },
  {
   "cell_type": "markdown",
   "metadata": {},
   "source": [
    "## Goal\n",
    "\n",
    " For a given chromosome *chr* and genomic distance d, this function maps conservation scores to all regions within d bp from the TSS of every gene in chromosome *chr*.\n",
    " * parse the conservation dataset to extract the relevant values according to genomic loci\n",
    " * do some validationt to verify that the anticipated output matches the actual output"
   ]
  },
  {
   "cell_type": "markdown",
   "metadata": {},
   "source": [
    "## Alter the R code to python and fix bugs\n",
    "\n",
    "* function1: parse wiggle headers\n",
    "        - Parameters: chr\n",
    "        - Output: a table containing header info of one .wig file ( 'start' col)\n",
    "\n",
    "* function2: iterate through the whole wiggle for once, and fill in the result matrix \n",
    "    - save to files instead of only returning a dataFrame\n",
    "\n",
    "* further: support BED"
   ]
  },
  {
   "cell_type": "markdown",
   "metadata": {},
   "source": [
    "### wiggle parser\n",
    "* 'readline' method: reads the entire file contents into memory first, so no\n",
    "```\n",
    "print open('xxx.txt').readlines()[:7][-1]\n",
    "```\n",
    "\n",
    "* Instead, use the original file iterator, which is more performant for large files.\n",
    "    - using 'islice' is slower than 'with open()'\n",
    "    \n",
    "* deal with 'fixedStep' of wiggle only(for now)"
   ]
  },
  {
   "cell_type": "code",
   "execution_count": 107,
   "metadata": {},
   "outputs": [],
   "source": [
    "# ParseError: Raised if the wiggle track has invalid content.\n",
    "class ParseError(Exception):\n",
    "    pass \n",
    "\n",
    "# state: wiggle track header info(dictionary) mode = 0 for fixed; 1 for variable\n",
    "def createState():\n",
    "    return dict(mode=0, span=1, start=None, step=None)\n",
    "\n",
    "# ********wiggleHeaderReader*******\n",
    "# parameter: a wiggle header line;   output: a dictionary\n",
    "# TODO: put 'span' into consideration (an optional parameter for wiggle format)\n",
    "def wiggleHeaderReader(line, state):\n",
    "        if line[:12]=='variableStep':\n",
    "            try:\n",
    "                fields = dict(map(lambda field: field.split('='), line[len('variableStep'):].split()))\n",
    "                state['mode'] = 1\n",
    "                state['span'] = int(fields.get('span', 1))\n",
    "                return fields.get('chrom')\n",
    "            except (ValueError, KeyError):\n",
    "                raise parseError('Could not parse header: %s'%line)\n",
    "        elif line[:9]=='fixedStep':\n",
    "            try:\n",
    "                fields = dict(map(lambda field: field.split('='), line[len('fixedStep'):].split()))\n",
    "                state['mode'] = 1\n",
    "                state['step'] = int(fields.get('step', 1))\n",
    "                state['span'] = int(fields.get('span', 1))\n",
    "                state['start'] = int(fields.get('start', 1))\n",
    "                return fields.get('chrom')\n",
    "            except(ValueError, KeyError):\n",
    "                raise ParseError('Could not parse header: %s'%line)\n",
    "                \n",
    "# ******wiggleParser()******\n",
    "# parameter: wiggle file path;    output: a table containing line numbers of all headers and their info(start, step)\n",
    "def wiggleParser(wigglepath):\n",
    "    state = createState()\n",
    "    df = pd.DataFrame(columns=['line', 'step'])\n",
    "    with open(wigglepath) as f:\n",
    "        for i, line in enumerate(f):\n",
    "            if line[:9] == 'fixedStep':\n",
    "                chrom = wiggleHeaderReader(line, state)\n",
    "                # 'i+1' is because the score starts at next line\n",
    "                temp = pd.DataFrame({'step':state.get('step'), 'line':i+1}, index=[state.get('start')])\n",
    "                df = df.append(temp)\n",
    "            # empty lines and comments may exist?\n",
    "            elif line in ('\\n', '\\r\\n', '\\r')  or line[0] in '0123456789.-' or line[:7] == 'browser'  or line[:5] == 'track' or line[0] == '#':\n",
    "                continue\n",
    "            else:\n",
    "                raise ParseError('Invalid content: %s, line number:%d'%(line, i))\n",
    "    return  df,chrom\n",
    "\n",
    "#********getWiggleLine(tss)**********\n",
    "# parameter: tss of interest(array); wiggle dataframe  output: relevant line number in wiggle track \n",
    "def getWiggleLine(TSS, df):\n",
    "    index = df.index.tolist() \n",
    "    cur = 0; line = 0; step = 1; TSS_map = []\n",
    "    for i in TSS:\n",
    "        # '>=' is vital ('>' makes the mapping from TSS to TSS_line_number_in_wig go wrong)\n",
    "        while i>=index[cur+1] and cur<len(index)-2:\n",
    "            cur+=1\n",
    "            line = df.loc[index[cur]]['line']\n",
    "            step = df.loc[index[cur]]['step']\n",
    "        if cur==len(index)-1:\n",
    "            print(i, index[cur], len(TSS), cur)\n",
    "        l = line + (i-index[cur])/step+1 # '+1'\n",
    "        TSS_map.append(l)\n",
    "        #if i==6631798 or i==6630182:\n",
    "            #import pdb; pdb.set_trace()\n",
    "    return TSS_map\n",
    "            \n",
    "# ******get_cons_score()******\n",
    "# Combine two R functions together. Since the TSS coordinates in a chromosome are in ascending order, the matrix can be \n",
    "# obtained by one iteration throughout the wiggle file.\n",
    "# parameters: filepath, transcripts annotation file path(any standard gtf containing 'start' and 'seqname'), desired distance d\n",
    "# TODO: deal with inconsistent 'step'\n",
    "def getConsScore(wigpath, transPath, d):\n",
    "    df, chrom = wiggleParser(wigpath)\n",
    "    chrom = re.sub('\\D','',chrom)  # 'chr1' -> '1'\n",
    "    trans = pd.read_csv(transPath, sep='\\t', usecols=['seqnames','transcript_id','gene_id','start','end'], dtype={'seqnames':object})\n",
    "    trans = trans[trans.seqnames==chrom]\n",
    "    trans = trans.sort_values(by=\"start\" , ascending=True) # TSS is not ascending in the gtf\n",
    "    TSS = trans['start'].tolist()\n",
    "    headers = df.line.tolist()\n",
    "    TSS_map = getWiggleLine(TSS, df)\n",
    "    ntrans = len(TSS)\n",
    "    # iterate TSS array: enumerate through wiggle track, for each TSS, return a list of length d\n",
    "    # To fill in the matrix with one iteration, consider when 'd' is large or neighboring TSS are close, there will be intersections.\n",
    "    mat = pd.DataFrame(columns = list(range(d+1)))\n",
    "    mat = pd.concat(  [trans.reset_index(drop=True), mat], axis=1  )\n",
    "    start, end = 0, 0\n",
    "    with open(wigpath) as f:\n",
    "        for i, line in enumerate(f):\n",
    "            if i<TSS_map[0]-d or line.startswith('fix'):\n",
    "                continue\n",
    "            while start<=ntrans-1 and TSS_map[start]<i:\n",
    "                start += 1\n",
    "            if end != ntrans-1:\n",
    "                while end<ntrans-1 and TSS_map[end+1]-d<=i: \n",
    "                    end += 1\n",
    "            k = start\n",
    "            gap = 0\n",
    "            while k<=end:\n",
    "                try:\n",
    "                    # gap is for comment lines between the ith line and TSS[k](sometimes different transcripts have same TSS)                        \n",
    "                    gap = len(  [x for x in headers if x>i and x<=TSS_map[k] ])\n",
    "                    mat.set_value(k, TSS_map[k]-i-gap, float(line))\n",
    "                    #print('start ',start, ' end ' ,end, ' i ',  i, ' k ', k, 'TSS[k]: ',TSS[k], 'TSS_map[k] ', TSS_map[k],' column ', TSS_map[k]-i-gap, gap, float(line), sep=', ')\n",
    "                    k+=1\n",
    "                except 'ValueError':\n",
    "                    print('An error has occured: wiggle track line:%s, line number: %s'%(line, str(i)))\n",
    "    return mat"
   ]
  },
  {
   "cell_type": "code",
   "execution_count": 108,
   "metadata": {},
   "outputs": [
    {
     "name": "stdout",
     "output_type": "stream",
     "text": [
      "2018-08-24 23:04:22\n",
      "2018-08-24 23:09:18\n"
     ]
    }
   ],
   "source": [
    "print(getTime())\n",
    "df = getConsScore(transPath='transcript.GRCh38.92.gtf', wigpath='wig/chr16.phyloP30way.wigFix', d=30)\n",
    "print(getTime())"
   ]
  },
  {
   "cell_type": "code",
   "execution_count": 5,
   "metadata": {
    "scrolled": true
   },
   "outputs": [
    {
     "name": "stdout",
     "output_type": "stream",
     "text": [
      "2018-08-24 03:34:28\n",
      "2018-08-24 03:35:47\n"
     ]
    }
   ],
   "source": [
    "print(getTime())\n",
    "df2, chrom = wiggleParser('wig/chr1.phyloP30way.wigFix')\n",
    "print(getTime())"
   ]
  },
  {
   "cell_type": "code",
   "execution_count": 110,
   "metadata": {
    "scrolled": true
   },
   "outputs": [],
   "source": [
    "df\n",
    "df.to_csv('chr16_cons_score.csv', sep = '\\t')"
   ]
  },
  {
   "cell_type": "code",
   "execution_count": 98,
   "metadata": {},
   "outputs": [
    {
     "name": "stdout",
     "output_type": "stream",
     "text": [
      "1 18062\n",
      "2 14754\n",
      "3 12391\n",
      "4 8103\n",
      "5 9417\n",
      "6 8917\n",
      "7 9722\n",
      "8 7919\n",
      "9 6823\n",
      "10 6707\n",
      "11 12642\n",
      "12 11643\n",
      "13 3365\n",
      "14 7574\n",
      "15 7506\n",
      "16 10137\n",
      "17 12760\n",
      "18 3729\n",
      "19 12889\n",
      "20 4471\n",
      "21 2446\n",
      "22 4578\n",
      "X 6345\n",
      "Y 738\n"
     ]
    }
   ],
   "source": [
    "l = list(range(1,23))\n",
    "l = l+['X','Y']\n",
    "#trans = pd.read_csv('Homo_sapiens.GRCh38.92.gtf', sep='\\t', usecols=['seqnames','transcript_id','gene_id','start','end'])\n",
    "trans = pd.read_csv('transcript.GRCh38.92.gtf', sep='\\t', dtype={'seqnames':object})\n",
    "chr_trans = [len(trans[trans.seqnames == str(x)]) for x in l]\n",
    "for i in range(0,len(l)):\n",
    "    print(l[i], chr_trans[i])"
   ]
  },
  {
   "cell_type": "code",
   "execution_count": null,
   "metadata": {},
   "outputs": [],
   "source": []
  }
 ],
 "metadata": {
  "kernelspec": {
   "display_name": "Python 3",
   "language": "python",
   "name": "python3"
  },
  "language_info": {
   "codemirror_mode": {
    "name": "ipython",
    "version": 3
   },
   "file_extension": ".py",
   "mimetype": "text/x-python",
   "name": "python",
   "nbconvert_exporter": "python",
   "pygments_lexer": "ipython3",
   "version": "3.6.3"
  }
 },
 "nbformat": 4,
 "nbformat_minor": 2
}
