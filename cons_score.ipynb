{
 "cells": [
  {
   "cell_type": "code",
   "execution_count": 2,
   "metadata": {},
   "outputs": [
    {
     "name": "stderr",
     "output_type": "stream",
     "text": [
      "\n",
      "Attaching package: ‘dplyr’\n",
      "\n",
      "The following objects are masked from ‘package:data.table’:\n",
      "\n",
      "    between, first, last\n",
      "\n",
      "The following object is masked from ‘package:biomaRt’:\n",
      "\n",
      "    select\n",
      "\n",
      "The following objects are masked from ‘package:stats’:\n",
      "\n",
      "    filter, lag\n",
      "\n",
      "The following objects are masked from ‘package:base’:\n",
      "\n",
      "    intersect, setdiff, setequal, union\n",
      "\n"
     ]
    }
   ],
   "source": [
    "library(biomaRt)\n",
    "library(data.table)\n",
    "library(dplyr)"
   ]
  },
  {
   "cell_type": "markdown",
   "metadata": {},
   "source": [
    "## Parsing the genome-wise gtf and conservation score tables\n",
    "\n",
    "Preprocess the annotation file, isolate the \n",
    "\n",
    "* extract and classify information from *Homo_sapiens.GRCh38.92.gtf*\n",
    "    - Filter the 'type' column to get gene/transcript\n",
    "    - R/Py can both choose particular cols when parsing .csv(select = *columnNames*), which is a speed bonus for parsing"
   ]
  },
  {
   "cell_type": "code",
   "execution_count": 3,
   "metadata": {
    "collapsed": true
   },
   "outputs": [],
   "source": [
    "gtf_df  <- rtracklayer::import('Homo_sapiens.GRCh38.92.gtf')\n",
    "gtf_df  <- as.data.frame(gtf_df)\n",
    "genes = gtf_df[gtf_df$type == 'gene',]"
   ]
  },
  {
   "cell_type": "code",
   "execution_count": 48,
   "metadata": {
    "collapsed": true
   },
   "outputs": [],
   "source": [
    "# Save annotation for genes\n",
    "write.table(genes, file = 'genes.GRCh38.92.gtf', sep = '\\t')"
   ]
  },
  {
   "cell_type": "code",
   "execution_count": 70,
   "metadata": {
    "collapsed": true
   },
   "outputs": [],
   "source": [
    "# transcripts annotations\n",
    "write.table(gtf_df[gtf_df$type == 'transcript',], file = 'transcript.GRCh38.92.gtf', sep = '\\t')"
   ]
  },
  {
   "cell_type": "code",
   "execution_count": 3,
   "metadata": {},
   "outputs": [
    {
     "data": {
      "text/html": [
       "<ol class=list-inline>\n",
       "\t<li>'seqnames'</li>\n",
       "\t<li>'start'</li>\n",
       "\t<li>'end'</li>\n",
       "\t<li>'width'</li>\n",
       "\t<li>'strand'</li>\n",
       "\t<li>'source'</li>\n",
       "\t<li>'type'</li>\n",
       "\t<li>'score'</li>\n",
       "\t<li>'phase'</li>\n",
       "\t<li>'gene_id'</li>\n",
       "\t<li>'gene_version'</li>\n",
       "\t<li>'gene_name'</li>\n",
       "\t<li>'gene_source'</li>\n",
       "\t<li>'gene_biotype'</li>\n",
       "\t<li>'transcript_id'</li>\n",
       "\t<li>'transcript_version'</li>\n",
       "\t<li>'transcript_name'</li>\n",
       "\t<li>'transcript_source'</li>\n",
       "\t<li>'transcript_biotype'</li>\n",
       "\t<li>'tag'</li>\n",
       "\t<li>'transcript_support_level'</li>\n",
       "\t<li>'exon_number'</li>\n",
       "\t<li>'exon_id'</li>\n",
       "\t<li>'exon_version'</li>\n",
       "\t<li>'protein_id'</li>\n",
       "\t<li>'protein_version'</li>\n",
       "\t<li>'ccds_id'</li>\n",
       "</ol>\n"
      ],
      "text/latex": [
       "\\begin{enumerate*}\n",
       "\\item 'seqnames'\n",
       "\\item 'start'\n",
       "\\item 'end'\n",
       "\\item 'width'\n",
       "\\item 'strand'\n",
       "\\item 'source'\n",
       "\\item 'type'\n",
       "\\item 'score'\n",
       "\\item 'phase'\n",
       "\\item 'gene\\_id'\n",
       "\\item 'gene\\_version'\n",
       "\\item 'gene\\_name'\n",
       "\\item 'gene\\_source'\n",
       "\\item 'gene\\_biotype'\n",
       "\\item 'transcript\\_id'\n",
       "\\item 'transcript\\_version'\n",
       "\\item 'transcript\\_name'\n",
       "\\item 'transcript\\_source'\n",
       "\\item 'transcript\\_biotype'\n",
       "\\item 'tag'\n",
       "\\item 'transcript\\_support\\_level'\n",
       "\\item 'exon\\_number'\n",
       "\\item 'exon\\_id'\n",
       "\\item 'exon\\_version'\n",
       "\\item 'protein\\_id'\n",
       "\\item 'protein\\_version'\n",
       "\\item 'ccds\\_id'\n",
       "\\end{enumerate*}\n"
      ],
      "text/markdown": [
       "1. 'seqnames'\n",
       "2. 'start'\n",
       "3. 'end'\n",
       "4. 'width'\n",
       "5. 'strand'\n",
       "6. 'source'\n",
       "7. 'type'\n",
       "8. 'score'\n",
       "9. 'phase'\n",
       "10. 'gene_id'\n",
       "11. 'gene_version'\n",
       "12. 'gene_name'\n",
       "13. 'gene_source'\n",
       "14. 'gene_biotype'\n",
       "15. 'transcript_id'\n",
       "16. 'transcript_version'\n",
       "17. 'transcript_name'\n",
       "18. 'transcript_source'\n",
       "19. 'transcript_biotype'\n",
       "20. 'tag'\n",
       "21. 'transcript_support_level'\n",
       "22. 'exon_number'\n",
       "23. 'exon_id'\n",
       "24. 'exon_version'\n",
       "25. 'protein_id'\n",
       "26. 'protein_version'\n",
       "27. 'ccds_id'\n",
       "\n",
       "\n"
      ],
      "text/plain": [
       " [1] \"seqnames\"                 \"start\"                   \n",
       " [3] \"end\"                      \"width\"                   \n",
       " [5] \"strand\"                   \"source\"                  \n",
       " [7] \"type\"                     \"score\"                   \n",
       " [9] \"phase\"                    \"gene_id\"                 \n",
       "[11] \"gene_version\"             \"gene_name\"               \n",
       "[13] \"gene_source\"              \"gene_biotype\"            \n",
       "[15] \"transcript_id\"            \"transcript_version\"      \n",
       "[17] \"transcript_name\"          \"transcript_source\"       \n",
       "[19] \"transcript_biotype\"       \"tag\"                     \n",
       "[21] \"transcript_support_level\" \"exon_number\"             \n",
       "[23] \"exon_id\"                  \"exon_version\"            \n",
       "[25] \"protein_id\"               \"protein_version\"         \n",
       "[27] \"ccds_id\"                 "
      ]
     },
     "metadata": {},
     "output_type": "display_data"
    }
   ],
   "source": [
    "colnames(gtf_df)"
   ]
  },
  {
   "cell_type": "code",
   "execution_count": 4,
   "metadata": {},
   "outputs": [
    {
     "name": "stderr",
     "output_type": "stream",
     "text": [
      "Warning message in fread(\"genes.GRCh38.92.gtf\", sep = \"\\t\", select = gene_colsOI):\n",
      "“Detected 27 column names but the data has 28 columns (i.e. invalid file). Added 1 extra default column name for the first column which is guessed to be row names or an index. Use setnames() afterwards if this guess is not correct, or fix the file write command that created the file to create a valid file.”"
     ]
    }
   ],
   "source": [
    "gene_colsOI = c('seqnames', 'start', 'end', 'width', 'strand', 'gene_id', 'gene_name', 'gene_biotype') \n",
    "# select columns of interest\n",
    "genes = fread('genes.GRCh38.92.gtf', sep = '\\t', select = gene_colsOI)"
   ]
  },
  {
   "cell_type": "code",
   "execution_count": 5,
   "metadata": {},
   "outputs": [
    {
     "data": {
      "text/html": [
       "<table>\n",
       "<thead><tr><th scope=col>seqnames</th><th scope=col>start</th><th scope=col>end</th><th scope=col>width</th><th scope=col>strand</th><th scope=col>gene_id</th><th scope=col>gene_name</th><th scope=col>gene_biotype</th></tr></thead>\n",
       "<tbody>\n",
       "\t<tr><td>1                                 </td><td>11869                             </td><td>14409                             </td><td> 2541                             </td><td>+                                 </td><td>ENSG00000223972                   </td><td>DDX11L1                           </td><td>transcribed_unprocessed_pseudogene</td></tr>\n",
       "\t<tr><td>1                                 </td><td>14404                             </td><td>29570                             </td><td>15167                             </td><td>-                                 </td><td>ENSG00000227232                   </td><td>WASH7P                            </td><td>unprocessed_pseudogene            </td></tr>\n",
       "\t<tr><td>1                                 </td><td>17369                             </td><td>17436                             </td><td>   68                             </td><td>-                                 </td><td>ENSG00000278267                   </td><td>MIR6859-1                         </td><td>miRNA                             </td></tr>\n",
       "\t<tr><td>1                                 </td><td>29554                             </td><td>31109                             </td><td> 1556                             </td><td>+                                 </td><td>ENSG00000243485                   </td><td>MIR1302-2HG                       </td><td>lincRNA                           </td></tr>\n",
       "\t<tr><td>1                                 </td><td>30366                             </td><td>30503                             </td><td>  138                             </td><td>+                                 </td><td>ENSG00000284332                   </td><td>MIR1302-2                         </td><td>miRNA                             </td></tr>\n",
       "\t<tr><td>1                                 </td><td>34554                             </td><td>36081                             </td><td> 1528                             </td><td>-                                 </td><td>ENSG00000237613                   </td><td>FAM138A                           </td><td>lincRNA                           </td></tr>\n",
       "</tbody>\n",
       "</table>\n"
      ],
      "text/latex": [
       "\\begin{tabular}{r|llllllll}\n",
       " seqnames & start & end & width & strand & gene\\_id & gene\\_name & gene\\_biotype\\\\\n",
       "\\hline\n",
       "\t 1                                      & 11869                                  & 14409                                  &  2541                                  & +                                      & ENSG00000223972                        & DDX11L1                                & transcribed\\_unprocessed\\_pseudogene\\\\\n",
       "\t 1                                    & 14404                                & 29570                                & 15167                                & -                                    & ENSG00000227232                      & WASH7P                               & unprocessed\\_pseudogene            \\\\\n",
       "\t 1                                  & 17369                              & 17436                              &    68                              & -                                  & ENSG00000278267                    & MIR6859-1                          & miRNA                             \\\\\n",
       "\t 1                                  & 29554                              & 31109                              &  1556                              & +                                  & ENSG00000243485                    & MIR1302-2HG                        & lincRNA                           \\\\\n",
       "\t 1                                  & 30366                              & 30503                              &   138                              & +                                  & ENSG00000284332                    & MIR1302-2                          & miRNA                             \\\\\n",
       "\t 1                                  & 34554                              & 36081                              &  1528                              & -                                  & ENSG00000237613                    & FAM138A                            & lincRNA                           \\\\\n",
       "\\end{tabular}\n"
      ],
      "text/markdown": [
       "\n",
       "seqnames | start | end | width | strand | gene_id | gene_name | gene_biotype | \n",
       "|---|---|---|---|---|---|\n",
       "| 1                                  | 11869                              | 14409                              |  2541                              | +                                  | ENSG00000223972                    | DDX11L1                            | transcribed_unprocessed_pseudogene | \n",
       "| 1                                  | 14404                              | 29570                              | 15167                              | -                                  | ENSG00000227232                    | WASH7P                             | unprocessed_pseudogene             | \n",
       "| 1                                  | 17369                              | 17436                              |    68                              | -                                  | ENSG00000278267                    | MIR6859-1                          | miRNA                              | \n",
       "| 1                                  | 29554                              | 31109                              |  1556                              | +                                  | ENSG00000243485                    | MIR1302-2HG                        | lincRNA                            | \n",
       "| 1                                  | 30366                              | 30503                              |   138                              | +                                  | ENSG00000284332                    | MIR1302-2                          | miRNA                              | \n",
       "| 1                                  | 34554                              | 36081                              |  1528                              | -                                  | ENSG00000237613                    | FAM138A                            | lincRNA                            | \n",
       "\n",
       "\n"
      ],
      "text/plain": [
       "  seqnames start end   width strand gene_id         gene_name  \n",
       "1 1        11869 14409  2541 +      ENSG00000223972 DDX11L1    \n",
       "2 1        14404 29570 15167 -      ENSG00000227232 WASH7P     \n",
       "3 1        17369 17436    68 -      ENSG00000278267 MIR6859-1  \n",
       "4 1        29554 31109  1556 +      ENSG00000243485 MIR1302-2HG\n",
       "5 1        30366 30503   138 +      ENSG00000284332 MIR1302-2  \n",
       "6 1        34554 36081  1528 -      ENSG00000237613 FAM138A    \n",
       "  gene_biotype                      \n",
       "1 transcribed_unprocessed_pseudogene\n",
       "2 unprocessed_pseudogene            \n",
       "3 miRNA                             \n",
       "4 lincRNA                           \n",
       "5 miRNA                             \n",
       "6 lincRNA                           "
      ]
     },
     "metadata": {},
     "output_type": "display_data"
    }
   ],
   "source": [
    "head(genes)"
   ]
  },
  {
   "cell_type": "code",
   "execution_count": 6,
   "metadata": {
    "scrolled": true
   },
   "outputs": [
    {
     "name": "stderr",
     "output_type": "stream",
     "text": [
      "Warning message in fread(\"transcript.GRCh38.92.gtf\", sep = \"\\t\", select = trans_colsOI):\n",
      "“Detected 27 column names but the data has 28 columns (i.e. invalid file). Added 1 extra default column name for the first column which is guessed to be row names or an index. Use setnames() afterwards if this guess is not correct, or fix the file write command that created the file to create a valid file.”"
     ]
    }
   ],
   "source": [
    "trans_colsOI = c('seqnames', 'start', 'end', 'width', 'strand', 'gene_id', 'gene_name', 'gene_biotype', 'transcript_id', 'transcript_name', 'transcript_biotype')\n",
    "transcripts = fread('transcript.GRCh38.92.gtf', sep = '\\t', select = trans_colsOI) %>% as.data.frame()"
   ]
  },
  {
   "cell_type": "code",
   "execution_count": 7,
   "metadata": {
    "scrolled": false
   },
   "outputs": [
    {
     "data": {
      "text/html": [
       "<table>\n",
       "<thead><tr><th></th><th scope=col>seqnames</th><th scope=col>start</th><th scope=col>end</th><th scope=col>width</th><th scope=col>strand</th><th scope=col>gene_id</th><th scope=col>gene_name</th><th scope=col>gene_biotype</th><th scope=col>transcript_id</th><th scope=col>transcript_name</th><th scope=col>transcript_biotype</th></tr></thead>\n",
       "<tbody>\n",
       "\t<tr><th scope=row>201193</th><td>21                     </td><td>5011799                </td><td>5017145                </td><td> 5347                  </td><td>+                      </td><td>ENSG00000279493        </td><td>FP565260.4             </td><td>protein_coding         </td><td>ENST00000624081        </td><td>FP565260.4-201         </td><td>protein_coding         </td></tr>\n",
       "\t<tr><th scope=row>201194</th><td>21                     </td><td>5022493                </td><td>5040661                </td><td>18169                  </td><td>+                      </td><td>ENSG00000277117        </td><td>FP565260.3             </td><td>protein_coding         </td><td>ENST00000612610        </td><td>FP565260.3-201         </td><td>protein_coding         </td></tr>\n",
       "\t<tr><th scope=row>201195</th><td>21                     </td><td>5022493                </td><td>5040666                </td><td>18174                  </td><td>+                      </td><td>ENSG00000277117        </td><td>FP565260.3             </td><td>protein_coding         </td><td>ENST00000620481        </td><td>FP565260.3-205         </td><td>protein_coding         </td></tr>\n",
       "\t<tr><th scope=row>201196</th><td>21                     </td><td>5022494                </td><td>5036771                </td><td>14278                  </td><td>+                      </td><td>ENSG00000277117        </td><td>FP565260.3             </td><td>protein_coding         </td><td>ENST00000623960        </td><td>FP565260.3-202         </td><td>protein_coding         </td></tr>\n",
       "\t<tr><th scope=row>201197</th><td>21                     </td><td>5022531                </td><td>5034684                </td><td>12154                  </td><td>+                      </td><td>ENSG00000277117        </td><td>FP565260.3             </td><td>protein_coding         </td><td>ENST00000623903        </td><td>FP565260.3-203         </td><td>nonsense_mediated_decay</td></tr>\n",
       "\t<tr><th scope=row>201198</th><td>21                     </td><td>5022533                </td><td>5036125                </td><td>13593                  </td><td>+                      </td><td>ENSG00000277117        </td><td>FP565260.3             </td><td>protein_coding         </td><td>ENST00000623795        </td><td>FP565260.3-204         </td><td>protein_coding         </td></tr>\n",
       "</tbody>\n",
       "</table>\n"
      ],
      "text/latex": [
       "\\begin{tabular}{r|lllllllllll}\n",
       "  & seqnames & start & end & width & strand & gene\\_id & gene\\_name & gene\\_biotype & transcript\\_id & transcript\\_name & transcript\\_biotype\\\\\n",
       "\\hline\n",
       "\t201193 & 21                        & 5011799                   & 5017145                   &  5347                     & +                         & ENSG00000279493           & FP565260.4                & protein\\_coding          & ENST00000624081           & FP565260.4-201            & protein\\_coding         \\\\\n",
       "\t201194 & 21                        & 5022493                   & 5040661                   & 18169                     & +                         & ENSG00000277117           & FP565260.3                & protein\\_coding          & ENST00000612610           & FP565260.3-201            & protein\\_coding         \\\\\n",
       "\t201195 & 21                        & 5022493                   & 5040666                   & 18174                     & +                         & ENSG00000277117           & FP565260.3                & protein\\_coding          & ENST00000620481           & FP565260.3-205            & protein\\_coding         \\\\\n",
       "\t201196 & 21                        & 5022494                   & 5036771                   & 14278                     & +                         & ENSG00000277117           & FP565260.3                & protein\\_coding          & ENST00000623960           & FP565260.3-202            & protein\\_coding         \\\\\n",
       "\t201197 & 21                          & 5022531                     & 5034684                     & 12154                       & +                           & ENSG00000277117             & FP565260.3                  & protein\\_coding            & ENST00000623903             & FP565260.3-203              & nonsense\\_mediated\\_decay\\\\\n",
       "\t201198 & 21                        & 5022533                   & 5036125                   & 13593                     & +                         & ENSG00000277117           & FP565260.3                & protein\\_coding          & ENST00000623795           & FP565260.3-204            & protein\\_coding         \\\\\n",
       "\\end{tabular}\n"
      ],
      "text/markdown": [
       "\n",
       "| <!--/--> | seqnames | start | end | width | strand | gene_id | gene_name | gene_biotype | transcript_id | transcript_name | transcript_biotype | \n",
       "|---|---|---|---|---|---|\n",
       "| 201193 | 21                      | 5011799                 | 5017145                 |  5347                   | +                       | ENSG00000279493         | FP565260.4              | protein_coding          | ENST00000624081         | FP565260.4-201          | protein_coding          | \n",
       "| 201194 | 21                      | 5022493                 | 5040661                 | 18169                   | +                       | ENSG00000277117         | FP565260.3              | protein_coding          | ENST00000612610         | FP565260.3-201          | protein_coding          | \n",
       "| 201195 | 21                      | 5022493                 | 5040666                 | 18174                   | +                       | ENSG00000277117         | FP565260.3              | protein_coding          | ENST00000620481         | FP565260.3-205          | protein_coding          | \n",
       "| 201196 | 21                      | 5022494                 | 5036771                 | 14278                   | +                       | ENSG00000277117         | FP565260.3              | protein_coding          | ENST00000623960         | FP565260.3-202          | protein_coding          | \n",
       "| 201197 | 21                      | 5022531                 | 5034684                 | 12154                   | +                       | ENSG00000277117         | FP565260.3              | protein_coding          | ENST00000623903         | FP565260.3-203          | nonsense_mediated_decay | \n",
       "| 201198 | 21                      | 5022533                 | 5036125                 | 13593                   | +                       | ENSG00000277117         | FP565260.3              | protein_coding          | ENST00000623795         | FP565260.3-204          | protein_coding          | \n",
       "\n",
       "\n"
      ],
      "text/plain": [
       "       seqnames start   end     width strand gene_id         gene_name \n",
       "201193 21       5011799 5017145  5347 +      ENSG00000279493 FP565260.4\n",
       "201194 21       5022493 5040661 18169 +      ENSG00000277117 FP565260.3\n",
       "201195 21       5022493 5040666 18174 +      ENSG00000277117 FP565260.3\n",
       "201196 21       5022494 5036771 14278 +      ENSG00000277117 FP565260.3\n",
       "201197 21       5022531 5034684 12154 +      ENSG00000277117 FP565260.3\n",
       "201198 21       5022533 5036125 13593 +      ENSG00000277117 FP565260.3\n",
       "       gene_biotype   transcript_id   transcript_name transcript_biotype     \n",
       "201193 protein_coding ENST00000624081 FP565260.4-201  protein_coding         \n",
       "201194 protein_coding ENST00000612610 FP565260.3-201  protein_coding         \n",
       "201195 protein_coding ENST00000620481 FP565260.3-205  protein_coding         \n",
       "201196 protein_coding ENST00000623960 FP565260.3-202  protein_coding         \n",
       "201197 protein_coding ENST00000623903 FP565260.3-203  nonsense_mediated_decay\n",
       "201198 protein_coding ENST00000623795 FP565260.3-204  protein_coding         "
      ]
     },
     "metadata": {},
     "output_type": "display_data"
    }
   ],
   "source": [
    "head(transcripts[transcripts$seqnames=='21',])"
   ]
  },
  {
   "cell_type": "markdown",
   "metadata": {},
   "source": [
    "### Function 1 \n",
    "* input: \n",
    " - wig file path\n",
    " - chromosome \n",
    " - genomic position ( nucleotide-wise)\n",
    " - distance d\n",
    "* output:\n",
    " - A numeric parameter of length d, containing conservation scores upstream TSS."
   ]
  },
  {
   "cell_type": "code",
   "execution_count": 8,
   "metadata": {
    "collapsed": true,
    "scrolled": true
   },
   "outputs": [],
   "source": [
    "# Returns the conservation score of a single TSS, within distance *d*. \n",
    "# Dependency: data.table(fread)\n",
    "# TODO: write an alternate parameter that accepts gene id or gene name.\n",
    "get_conservation_score <- function(wigpath, chr, pos, d){\n",
    "    path = paste(wigpath, 'chr', as.character(chr), '.phyloP30way.wigFix', sep='')\n",
    "    wigdata = fread(path)\n",
    "    # use some regex to parse the first line of wig\n",
    "    info = colnames(wigdata)\n",
    "    chr_start = as.numeric(   substr(info, regexpr('start=', info)+6, regexpr(' step=', info))   )\n",
    "\n",
    "#     tryCatch({\n",
    "#             chr_start = as.numeric(   substr(info, regexpr('start=', info)+6, regexpr(' step=', info))   )\n",
    "#         },error=function(e){cat(\"ERROR : Invalid wig file\",conditionMessage(e),\"\\n\")})\n",
    "    \n",
    "    # Transcription Start Site in .wig table\n",
    "    TSSrow = pos - chr_start + 1    \n",
    "    if( TSSrow-d<0 | TSSrow>nrow(wigdata)){\n",
    "        print('Error: parameter out of range: d')\n",
    "        return(NULL)\n",
    "    }\n",
    "    vec = as.numeric( wigdata[[1]][ (TSSrow-d) : TSSrow ])\n",
    "    return(vec)\n",
    "}"
   ]
  },
  {
   "cell_type": "markdown",
   "metadata": {},
   "source": [
    "## Goal\n",
    "\n",
    " For a given chromosome *chr* and genomic distance d, this function maps conservation scores to all regions within d bp from the TSS of every gene in chromosome *chr*.\n",
    " * parse the conservation dataset to extract the relevant values according to genomic loci\n",
    " * do some validationt to verify that the anticipated output matches the actual output\n"
   ]
  },
  {
   "cell_type": "code",
   "execution_count": 9,
   "metadata": {
    "scrolled": false
   },
   "outputs": [
    {
     "name": "stdout",
     "output_type": "stream",
     "text": [
      "1 : 18062 \n",
      "2 : 14754 \n",
      "3 : 12391 \n",
      "4 : 8103 \n",
      "5 : 9417 \n",
      "6 : 8917 \n",
      "7 : 9722 \n",
      "8 : 7919 \n",
      "9 : 6823 \n",
      "10 : 6707 \n",
      "11 : 12642 \n",
      "12 : 11643 \n",
      "13 : 3365 \n",
      "14 : 7574 \n",
      "15 : 7506 \n",
      "16 : 10137 \n",
      "17 : 12760 \n",
      "18 : 3729 \n",
      "19 : 12889 \n",
      "20 : 4471 \n",
      "21 : 2446 \n",
      "22 : 4578 \n"
     ]
    }
   ],
   "source": [
    "# NO. of transcripts for each chromosome\n",
    "# chr1 the longest; chr21 can be used for testing\n",
    "for(i in c(1:22)){cat(paste(   i, ':', nrow(transcripts[transcripts$seqnames==as.character(i),])), '\\n'   )}"
   ]
  },
  {
   "cell_type": "markdown",
   "metadata": {},
   "source": [
    "In order to get a matrix at one time, revise the previous function:\n",
    "* pass wig dataframes directly, instead of parsing .wig every time it's called\n",
    "* append the output vector to a dataframe\n",
    "\n",
    "## Function: *chr_phyloP(wigpath, chr, d, transcripts)*\n",
    "### Arguments\n",
    "* wigpath: Path to .wig tables(e.g. chr1.phyloP30way.wigFix, [UCSC download](http://hgdownload.cse.ucsc.edu/goldenpath/hg38/phyloP30way/hg38.30way.phyloP/ )). The path can be relative.\n",
    "* chr: Chromosome number or 'X'/'Y'\n",
    "* d: Desired distance from transcription start site\n",
    "\n",
    "### Output\n",
    " A dataframe(matrix) with nrow==transcript-on-a-chr, ncol=d. Also contains gene id, transcript id, TSS, and transcript end site.\n"
   ]
  },
  {
   "cell_type": "code",
   "execution_count": 10,
   "metadata": {
    "collapsed": true
   },
   "outputs": [],
   "source": [
    "\n",
    "get_conservation_score <- function(pos, wigdata, chr_start, d, dat){\n",
    "    # Transcription Start Site in .wig table\n",
    "    TSSrow = pos - chr_start + 1 \n",
    "    #   print(TSSrow)\n",
    "    if( TSSrow-d<0 | TSSrow>nrow(wigdata)){\n",
    "        print(paste('Error: parameter out of range: d, position =', pos))\n",
    "        return(-1)\n",
    "    }\n",
    "    vec = rev(  as.numeric( wigdata[[1]][ (TSSrow-d) : TSSrow ])  )\n",
    "    # rev(): let the cons-score vector in ascending order(0...d)\n",
    "    dat = rbind( dat, vec )\n",
    "    return(vec)\n",
    "}\n",
    "\n",
    "chr_phyloP <- function(wigpath, chr, d, transcripts){\n",
    "    path = paste(  wigpath, 'chr', as.character(chr), '.phyloP30way.wigFix', sep='')\n",
    "    wigdata = fread(path)\n",
    "    info = colnames(wigdata)\n",
    "    chr_start = as.numeric(   substr(info, regexpr('start=', info)+6, regexpr(' step=', info))    )\n",
    "    # iterate all transcripts\n",
    "    temp = transcripts[transcripts$start & transcripts$seqnames==as.character(chr),]\n",
    "    TSS = temp$start # TSS vector on a chromosome\n",
    "    \n",
    "    cnames = c('chr', 'gene_id', 'transcript_id', 'start', 'end')\n",
    "    dat = data.frame(matrix(ncol = d+1, nrow = 0))\n",
    "    dat = sapply(TSS, get_conservation_score, wigdata=wigdata, chr_start=chr_start, d=d, dat=dat)\n",
    "    dat = t(dat) %>% as.data.frame()\n",
    "    \n",
    "    colnames(dat) = as.character(c(0:d))\n",
    "    \n",
    "    chr = rep(as.character(chr), nrow(dat))\n",
    "    gene_id = temp$gene_id\n",
    "    transcript_id = temp$transcript_id\n",
    "    start = temp$start\n",
    "    end = temp$end\n",
    "    dat = cbind(chr, gene_id, transcript_id, start, end, dat)\n",
    "    #dat = cbind(chr, dat)\n",
    "    return(dat)\n",
    "}"
   ]
  },
  {
   "cell_type": "code",
   "execution_count": 18,
   "metadata": {},
   "outputs": [
    {
     "data": {
      "text/plain": [
       "[1] \"2018-08-19 04:04:20 CST\""
      ]
     },
     "metadata": {},
     "output_type": "display_data"
    },
    {
     "data": {
      "text/plain": [
       "[1] \"2018-08-19 04:04:25 CST\""
      ]
     },
     "metadata": {},
     "output_type": "display_data"
    }
   ],
   "source": [
    "Sys.time()\n",
    "temp = chr_phyloP('wig/', 21, 4, transcripts)\n",
    "Sys.time()"
   ]
  },
  {
   "cell_type": "code",
   "execution_count": 111,
   "metadata": {},
   "outputs": [
    {
     "data": {
      "text/plain": [
       "R version 3.4.3 (2017-11-30)\n",
       "Platform: x86_64-redhat-linux-gnu (64-bit)\n",
       "Running under: CentOS Linux 7 (Core)\n",
       "\n",
       "Matrix products: default\n",
       "BLAS/LAPACK: /usr/lib64/R/lib/libRblas.so\n",
       "\n",
       "locale:\n",
       " [1] LC_CTYPE=en_US.UTF-8       LC_NUMERIC=C              \n",
       " [3] LC_TIME=en_US.UTF-8        LC_COLLATE=en_US.UTF-8    \n",
       " [5] LC_MONETARY=en_US.UTF-8    LC_MESSAGES=en_US.UTF-8   \n",
       " [7] LC_PAPER=en_US.UTF-8       LC_NAME=C                 \n",
       " [9] LC_ADDRESS=C               LC_TELEPHONE=C            \n",
       "[11] LC_MEASUREMENT=en_US.UTF-8 LC_IDENTIFICATION=C       \n",
       "\n",
       "attached base packages:\n",
       "[1] stats     graphics  grDevices utils     datasets  methods   base     \n",
       "\n",
       "other attached packages:\n",
       "[1] dplyr_0.7.6       data.table_1.11.4 biomaRt_2.34.2   \n",
       "\n",
       "loaded via a namespace (and not attached):\n",
       " [1] Rcpp_0.12.16         pillar_1.2.1         bindr_0.1.1         \n",
       " [4] compiler_3.4.3       prettyunits_1.0.2    bitops_1.0-6        \n",
       " [7] base64enc_0.1-3      tools_3.4.3          progress_1.2.0      \n",
       "[10] digest_0.6.15        uuid_0.1-2           bit_1.1-12          \n",
       "[13] tibble_1.4.2         jsonlite_1.5         RSQLite_2.1.0       \n",
       "[16] evaluate_0.11        memoise_1.1.0        pkgconfig_2.0.1     \n",
       "[19] rlang_0.2.1          IRdisplay_0.5.0      DBI_0.8             \n",
       "[22] IRkernel_0.8.12.9000 parallel_3.4.3       bindrcpp_0.2.2      \n",
       "[25] httr_1.3.1           repr_0.15.0          stringr_1.3.0       \n",
       "[28] S4Vectors_0.16.0     IRanges_2.12.0       hms_0.4.2           \n",
       "[31] tidyselect_0.2.4     stats4_3.4.3         bit64_0.9-7         \n",
       "[34] glue_1.2.0           Biobase_2.38.0       R6_2.2.2            \n",
       "[37] AnnotationDbi_1.40.0 XML_3.98-1.11        pbdZMQ_0.3-3        \n",
       "[40] purrr_0.2.5          blob_1.1.1           magrittr_1.5        \n",
       "[43] htmltools_0.3.6      BiocGenerics_0.24.0  assertthat_0.2.0    \n",
       "[46] stringi_1.1.7        RCurl_1.95-4.10      crayon_1.3.4        "
      ]
     },
     "metadata": {},
     "output_type": "display_data"
    }
   ],
   "source": [
    "sessionInfo()"
   ]
  },
  {
   "cell_type": "code",
   "execution_count": 46,
   "metadata": {},
   "outputs": [
    {
     "data": {
      "text/html": [
       "<table>\n",
       "<thead><tr><th></th><th scope=col>seqnames</th><th scope=col>start</th><th scope=col>end</th><th scope=col>width</th><th scope=col>strand</th><th scope=col>gene_id</th><th scope=col>gene_name</th><th scope=col>gene_biotype</th><th scope=col>transcript_id</th><th scope=col>transcript_name</th><th scope=col>transcript_biotype</th></tr></thead>\n",
       "<tbody>\n",
       "\t<tr><th scope=row>201193</th><td>21                     </td><td>5011799                </td><td>5017145                </td><td> 5347                  </td><td>+                      </td><td>ENSG00000279493        </td><td>FP565260.4             </td><td>protein_coding         </td><td>ENST00000624081        </td><td>FP565260.4-201         </td><td>protein_coding         </td></tr>\n",
       "\t<tr><th scope=row>201194</th><td>21                     </td><td>5022493                </td><td>5040661                </td><td>18169                  </td><td>+                      </td><td>ENSG00000277117        </td><td>FP565260.3             </td><td>protein_coding         </td><td>ENST00000612610        </td><td>FP565260.3-201         </td><td>protein_coding         </td></tr>\n",
       "\t<tr><th scope=row>201195</th><td>21                     </td><td>5022493                </td><td>5040666                </td><td>18174                  </td><td>+                      </td><td>ENSG00000277117        </td><td>FP565260.3             </td><td>protein_coding         </td><td>ENST00000620481        </td><td>FP565260.3-205         </td><td>protein_coding         </td></tr>\n",
       "\t<tr><th scope=row>201196</th><td>21                     </td><td>5022494                </td><td>5036771                </td><td>14278                  </td><td>+                      </td><td>ENSG00000277117        </td><td>FP565260.3             </td><td>protein_coding         </td><td>ENST00000623960        </td><td>FP565260.3-202         </td><td>protein_coding         </td></tr>\n",
       "\t<tr><th scope=row>201197</th><td>21                     </td><td>5022531                </td><td>5034684                </td><td>12154                  </td><td>+                      </td><td>ENSG00000277117        </td><td>FP565260.3             </td><td>protein_coding         </td><td>ENST00000623903        </td><td>FP565260.3-203         </td><td>nonsense_mediated_decay</td></tr>\n",
       "\t<tr><th scope=row>201198</th><td>21                     </td><td>5022533                </td><td>5036125                </td><td>13593                  </td><td>+                      </td><td>ENSG00000277117        </td><td>FP565260.3             </td><td>protein_coding         </td><td>ENST00000623795        </td><td>FP565260.3-204         </td><td>protein_coding         </td></tr>\n",
       "</tbody>\n",
       "</table>\n"
      ],
      "text/latex": [
       "\\begin{tabular}{r|lllllllllll}\n",
       "  & seqnames & start & end & width & strand & gene\\_id & gene\\_name & gene\\_biotype & transcript\\_id & transcript\\_name & transcript\\_biotype\\\\\n",
       "\\hline\n",
       "\t201193 & 21                        & 5011799                   & 5017145                   &  5347                     & +                         & ENSG00000279493           & FP565260.4                & protein\\_coding          & ENST00000624081           & FP565260.4-201            & protein\\_coding         \\\\\n",
       "\t201194 & 21                        & 5022493                   & 5040661                   & 18169                     & +                         & ENSG00000277117           & FP565260.3                & protein\\_coding          & ENST00000612610           & FP565260.3-201            & protein\\_coding         \\\\\n",
       "\t201195 & 21                        & 5022493                   & 5040666                   & 18174                     & +                         & ENSG00000277117           & FP565260.3                & protein\\_coding          & ENST00000620481           & FP565260.3-205            & protein\\_coding         \\\\\n",
       "\t201196 & 21                        & 5022494                   & 5036771                   & 14278                     & +                         & ENSG00000277117           & FP565260.3                & protein\\_coding          & ENST00000623960           & FP565260.3-202            & protein\\_coding         \\\\\n",
       "\t201197 & 21                          & 5022531                     & 5034684                     & 12154                       & +                           & ENSG00000277117             & FP565260.3                  & protein\\_coding            & ENST00000623903             & FP565260.3-203              & nonsense\\_mediated\\_decay\\\\\n",
       "\t201198 & 21                        & 5022533                   & 5036125                   & 13593                     & +                         & ENSG00000277117           & FP565260.3                & protein\\_coding          & ENST00000623795           & FP565260.3-204            & protein\\_coding         \\\\\n",
       "\\end{tabular}\n"
      ],
      "text/markdown": [
       "\n",
       "| <!--/--> | seqnames | start | end | width | strand | gene_id | gene_name | gene_biotype | transcript_id | transcript_name | transcript_biotype | \n",
       "|---|---|---|---|---|---|\n",
       "| 201193 | 21                      | 5011799                 | 5017145                 |  5347                   | +                       | ENSG00000279493         | FP565260.4              | protein_coding          | ENST00000624081         | FP565260.4-201          | protein_coding          | \n",
       "| 201194 | 21                      | 5022493                 | 5040661                 | 18169                   | +                       | ENSG00000277117         | FP565260.3              | protein_coding          | ENST00000612610         | FP565260.3-201          | protein_coding          | \n",
       "| 201195 | 21                      | 5022493                 | 5040666                 | 18174                   | +                       | ENSG00000277117         | FP565260.3              | protein_coding          | ENST00000620481         | FP565260.3-205          | protein_coding          | \n",
       "| 201196 | 21                      | 5022494                 | 5036771                 | 14278                   | +                       | ENSG00000277117         | FP565260.3              | protein_coding          | ENST00000623960         | FP565260.3-202          | protein_coding          | \n",
       "| 201197 | 21                      | 5022531                 | 5034684                 | 12154                   | +                       | ENSG00000277117         | FP565260.3              | protein_coding          | ENST00000623903         | FP565260.3-203          | nonsense_mediated_decay | \n",
       "| 201198 | 21                      | 5022533                 | 5036125                 | 13593                   | +                       | ENSG00000277117         | FP565260.3              | protein_coding          | ENST00000623795         | FP565260.3-204          | protein_coding          | \n",
       "\n",
       "\n"
      ],
      "text/plain": [
       "       seqnames start   end     width strand gene_id         gene_name \n",
       "201193 21       5011799 5017145  5347 +      ENSG00000279493 FP565260.4\n",
       "201194 21       5022493 5040661 18169 +      ENSG00000277117 FP565260.3\n",
       "201195 21       5022493 5040666 18174 +      ENSG00000277117 FP565260.3\n",
       "201196 21       5022494 5036771 14278 +      ENSG00000277117 FP565260.3\n",
       "201197 21       5022531 5034684 12154 +      ENSG00000277117 FP565260.3\n",
       "201198 21       5022533 5036125 13593 +      ENSG00000277117 FP565260.3\n",
       "       gene_biotype   transcript_id   transcript_name transcript_biotype     \n",
       "201193 protein_coding ENST00000624081 FP565260.4-201  protein_coding         \n",
       "201194 protein_coding ENST00000612610 FP565260.3-201  protein_coding         \n",
       "201195 protein_coding ENST00000620481 FP565260.3-205  protein_coding         \n",
       "201196 protein_coding ENST00000623960 FP565260.3-202  protein_coding         \n",
       "201197 protein_coding ENST00000623903 FP565260.3-203  nonsense_mediated_decay\n",
       "201198 protein_coding ENST00000623795 FP565260.3-204  protein_coding         "
      ]
     },
     "metadata": {},
     "output_type": "display_data"
    },
    {
     "data": {
      "text/html": [
       "<table>\n",
       "<thead><tr><th></th><th scope=col>seqnames</th><th scope=col>start</th><th scope=col>end</th><th scope=col>width</th><th scope=col>strand</th><th scope=col>gene_id</th><th scope=col>gene_name</th><th scope=col>gene_biotype</th><th scope=col>transcript_id</th><th scope=col>transcript_name</th><th scope=col>transcript_biotype</th></tr></thead>\n",
       "<tbody>\n",
       "\t<tr><th scope=row>202192</th><td>21             </td><td>33465018       </td><td>33467135       </td><td>2118           </td><td>-              </td><td>ENSG00000142188</td><td>TMEM50B        </td><td>protein_coding </td><td>ENST00000474272</td><td>TMEM50B-208    </td><td>retained_intron</td></tr>\n",
       "</tbody>\n",
       "</table>\n"
      ],
      "text/latex": [
       "\\begin{tabular}{r|lllllllllll}\n",
       "  & seqnames & start & end & width & strand & gene\\_id & gene\\_name & gene\\_biotype & transcript\\_id & transcript\\_name & transcript\\_biotype\\\\\n",
       "\\hline\n",
       "\t202192 & 21                & 33465018          & 33467135          & 2118              & -                 & ENSG00000142188   & TMEM50B           & protein\\_coding  & ENST00000474272   & TMEM50B-208       & retained\\_intron\\\\\n",
       "\\end{tabular}\n"
      ],
      "text/markdown": [
       "\n",
       "| <!--/--> | seqnames | start | end | width | strand | gene_id | gene_name | gene_biotype | transcript_id | transcript_name | transcript_biotype | \n",
       "|---|\n",
       "| 202192 | 21              | 33465018        | 33467135        | 2118            | -               | ENSG00000142188 | TMEM50B         | protein_coding  | ENST00000474272 | TMEM50B-208     | retained_intron | \n",
       "\n",
       "\n"
      ],
      "text/plain": [
       "       seqnames start    end      width strand gene_id         gene_name\n",
       "202192 21       33465018 33467135 2118  -      ENSG00000142188 TMEM50B  \n",
       "       gene_biotype   transcript_id   transcript_name transcript_biotype\n",
       "202192 protein_coding ENST00000474272 TMEM50B-208     retained_intron   "
      ]
     },
     "metadata": {},
     "output_type": "display_data"
    }
   ],
   "source": [
    "head(   transcripts[transcripts$seqnames=='21',])\n",
    "transcripts[transcripts$seqnames=='21',][1000,]"
   ]
  },
  {
   "cell_type": "code",
   "execution_count": 12,
   "metadata": {
    "scrolled": true
   },
   "outputs": [
    {
     "data": {
      "text/html": [
       "37275165"
      ],
      "text/latex": [
       "37275165"
      ],
      "text/markdown": [
       "37275165"
      ],
      "text/plain": [
       "[1] 37275165"
      ]
     },
     "metadata": {},
     "output_type": "display_data"
    },
    {
     "data": {
      "text/html": [
       "<table>\n",
       "<thead><tr><th scope=col>fixedStep chrom=chr21 start=5010001 step=1</th></tr></thead>\n",
       "<tbody>\n",
       "\t<tr><td>0.338</td></tr>\n",
       "\t<tr><td>0.369</td></tr>\n",
       "\t<tr><td>0.326</td></tr>\n",
       "\t<tr><td>0.300</td></tr>\n",
       "\t<tr><td>0.300</td></tr>\n",
       "\t<tr><td>0.369</td></tr>\n",
       "</tbody>\n",
       "</table>\n"
      ],
      "text/latex": [
       "\\begin{tabular}{r|l}\n",
       " fixedStep chrom=chr21 start=5010001 step=1\\\\\n",
       "\\hline\n",
       "\t 0.338\\\\\n",
       "\t 0.369\\\\\n",
       "\t 0.326\\\\\n",
       "\t 0.300\\\\\n",
       "\t 0.300\\\\\n",
       "\t 0.369\\\\\n",
       "\\end{tabular}\n"
      ],
      "text/markdown": [
       "\n",
       "fixedStep chrom=chr21 start=5010001 step=1 | \n",
       "|---|---|---|---|---|---|\n",
       "| 0.338 | \n",
       "| 0.369 | \n",
       "| 0.326 | \n",
       "| 0.300 | \n",
       "| 0.300 | \n",
       "| 0.369 | \n",
       "\n",
       "\n"
      ],
      "text/plain": [
       "  fixedStep chrom=chr21 start=5010001 step=1\n",
       "1 0.338                                     \n",
       "2 0.369                                     \n",
       "3 0.326                                     \n",
       "4 0.300                                     \n",
       "5 0.300                                     \n",
       "6 0.369                                     "
      ]
     },
     "metadata": {},
     "output_type": "display_data"
    }
   ],
   "source": [
    "a =  fread('wig/chr21.phyloP30way.wigFix')\n",
    "nrow(a)\n",
    "head(a)"
   ]
  },
  {
   "cell_type": "code",
   "execution_count": 17,
   "metadata": {},
   "outputs": [
    {
     "data": {
      "text/html": [
       "<table>\n",
       "<thead><tr><th scope=col>fixedStep chrom=chr21 start=5010001 step=1</th></tr></thead>\n",
       "<tbody>\n",
       "\t<tr><td>0.168 </td></tr>\n",
       "\t<tr><td>0.168 </td></tr>\n",
       "\t<tr><td>0.151 </td></tr>\n",
       "\t<tr><td>0.151 </td></tr>\n",
       "\t<tr><td>0.151 </td></tr>\n",
       "\t<tr><td>0.151 </td></tr>\n",
       "\t<tr><td>0.163 </td></tr>\n",
       "\t<tr><td>0.151 </td></tr>\n",
       "\t<tr><td>0.183 </td></tr>\n",
       "\t<tr><td>-1.688</td></tr>\n",
       "\t<tr><td>-1.688</td></tr>\n",
       "\t<tr><td>0.151 </td></tr>\n",
       "\t<tr><td>0.163 </td></tr>\n",
       "\t<tr><td>0.151 </td></tr>\n",
       "\t<tr><td>-1.782</td></tr>\n",
       "\t<tr><td>-1.158</td></tr>\n",
       "\t<tr><td>0.168 </td></tr>\n",
       "\t<tr><td>0.151 </td></tr>\n",
       "\t<tr><td>0.151 </td></tr>\n",
       "\t<tr><td>0.183 </td></tr>\n",
       "\t<tr><td>0.151 </td></tr>\n",
       "</tbody>\n",
       "</table>\n"
      ],
      "text/latex": [
       "\\begin{tabular}{r|l}\n",
       " fixedStep chrom=chr21 start=5010001 step=1\\\\\n",
       "\\hline\n",
       "\t 0.168 \\\\\n",
       "\t 0.168 \\\\\n",
       "\t 0.151 \\\\\n",
       "\t 0.151 \\\\\n",
       "\t 0.151 \\\\\n",
       "\t 0.151 \\\\\n",
       "\t 0.163 \\\\\n",
       "\t 0.151 \\\\\n",
       "\t 0.183 \\\\\n",
       "\t -1.688\\\\\n",
       "\t -1.688\\\\\n",
       "\t 0.151 \\\\\n",
       "\t 0.163 \\\\\n",
       "\t 0.151 \\\\\n",
       "\t -1.782\\\\\n",
       "\t -1.158\\\\\n",
       "\t 0.168 \\\\\n",
       "\t 0.151 \\\\\n",
       "\t 0.151 \\\\\n",
       "\t 0.183 \\\\\n",
       "\t 0.151 \\\\\n",
       "\\end{tabular}\n"
      ],
      "text/markdown": [
       "\n",
       "fixedStep chrom=chr21 start=5010001 step=1 | \n",
       "|---|---|---|---|---|---|---|---|---|---|---|---|---|---|---|---|---|---|---|---|---|\n",
       "| 0.168  | \n",
       "| 0.168  | \n",
       "| 0.151  | \n",
       "| 0.151  | \n",
       "| 0.151  | \n",
       "| 0.151  | \n",
       "| 0.163  | \n",
       "| 0.151  | \n",
       "| 0.183  | \n",
       "| -1.688 | \n",
       "| -1.688 | \n",
       "| 0.151  | \n",
       "| 0.163  | \n",
       "| 0.151  | \n",
       "| -1.782 | \n",
       "| -1.158 | \n",
       "| 0.168  | \n",
       "| 0.151  | \n",
       "| 0.151  | \n",
       "| 0.183  | \n",
       "| 0.151  | \n",
       "\n",
       "\n"
      ],
      "text/plain": [
       "   fixedStep chrom=chr21 start=5010001 step=1\n",
       "1  0.168                                     \n",
       "2  0.168                                     \n",
       "3  0.151                                     \n",
       "4  0.151                                     \n",
       "5  0.151                                     \n",
       "6  0.151                                     \n",
       "7  0.163                                     \n",
       "8  0.151                                     \n",
       "9  0.183                                     \n",
       "10 -1.688                                    \n",
       "11 -1.688                                    \n",
       "12 0.151                                     \n",
       "13 0.163                                     \n",
       "14 0.151                                     \n",
       "15 -1.782                                    \n",
       "16 -1.158                                    \n",
       "17 0.168                                     \n",
       "18 0.151                                     \n",
       "19 0.151                                     \n",
       "20 0.183                                     \n",
       "21 0.151                                     "
      ]
     },
     "metadata": {},
     "output_type": "display_data"
    }
   ],
   "source": [
    "a[86270:86290,]"
   ]
  },
  {
   "cell_type": "markdown",
   "metadata": {
    "collapsed": true
   },
   "source": [
    "### 致命问题：\n",
    "* 读wig文件时不能整个作为dataframe读入（ phyloP46way 的 chr1 大小达到200G)。\n",
    "* wig文件格式，有多个注释行，形如 'Fixedstep, start = chr = step=....' 需要改变方式来读取\n",
    "\n",
    "### 综合以上两个问题，解决方案应当满足：\n",
    "* 能认出注释\n",
    "* 能处理注释中的信息\n",
    "* 虽然不能一次性全部读入，但也可以有一定的缓冲区域，每次读一坨进来：\n",
    "    - 对每一行对应 nucleotide (genomic coordinate) 有识别\n",
    "    - 读取的 floating window 的数量级应该和 d 差不多甚至要大(?)\n",
    "    \n",
    "综上，我的思路(Augest 15th, 1pm)是：\n",
    "* 读取文件时使用“指针”，每次向后移动到下一个TSS（偏移量）读取长度为d（实际操作中比d大很多）的score vector并记录。\n",
    "\n",
    "第一遍处理的方法（找出header并识别信息）有官方C语言版本了：https://github.com/Ensembl/WiggleTools/blob/master/src/wigReader.c\n",
    "methods:\n",
    "* WiggleReaderReadHeader\n",
    "\n"
   ]
  },
  {
   "cell_type": "code",
   "execution_count": 28,
   "metadata": {},
   "outputs": [
    {
     "name": "stderr",
     "output_type": "stream",
     "text": [
      "Warning message in fread(\"transcript.GRCh38.92.gtf\", sep = \"\\t\"):\n",
      "“Detected 27 column names but the data has 28 columns (i.e. invalid file). Added 1 extra default column name for the first column which is guessed to be row names or an index. Use setnames() afterwards if this guess is not correct, or fix the file write command that created the file to create a valid file.”"
     ]
    }
   ],
   "source": [
    "test = fread('transcript.GRCh38.92.gtf', sep='\\t')"
   ]
  },
  {
   "cell_type": "code",
   "execution_count": 29,
   "metadata": {},
   "outputs": [
    {
     "data": {
      "text/html": [
       "<ol class=list-inline>\n",
       "\t<li>'1'</li>\n",
       "\t<li>'2'</li>\n",
       "\t<li>'3'</li>\n",
       "\t<li>'4'</li>\n",
       "\t<li>'5'</li>\n",
       "\t<li>'6'</li>\n",
       "\t<li>'7'</li>\n",
       "\t<li>'X'</li>\n",
       "\t<li>'8'</li>\n",
       "\t<li>'9'</li>\n",
       "\t<li>'11'</li>\n",
       "\t<li>'10'</li>\n",
       "\t<li>'12'</li>\n",
       "\t<li>'13'</li>\n",
       "\t<li>'14'</li>\n",
       "\t<li>'15'</li>\n",
       "\t<li>'16'</li>\n",
       "\t<li>'17'</li>\n",
       "\t<li>'18'</li>\n",
       "\t<li>'20'</li>\n",
       "\t<li>'19'</li>\n",
       "\t<li>'Y'</li>\n",
       "\t<li>'22'</li>\n",
       "\t<li>'21'</li>\n",
       "\t<li>'MT'</li>\n",
       "\t<li>'KI270728.1'</li>\n",
       "\t<li>'KI270727.1'</li>\n",
       "\t<li>'KI270442.1'</li>\n",
       "\t<li>'GL000225.1'</li>\n",
       "\t<li>'GL000009.2'</li>\n",
       "\t<li>'GL000194.1'</li>\n",
       "\t<li>'GL000205.2'</li>\n",
       "\t<li>'GL000195.1'</li>\n",
       "\t<li>'KI270733.1'</li>\n",
       "\t<li>'GL000219.1'</li>\n",
       "\t<li>'GL000216.2'</li>\n",
       "\t<li>'KI270744.1'</li>\n",
       "\t<li>'KI270734.1'</li>\n",
       "\t<li>'GL000213.1'</li>\n",
       "\t<li>'GL000220.1'</li>\n",
       "\t<li>'GL000218.1'</li>\n",
       "\t<li>'KI270731.1'</li>\n",
       "\t<li>'KI270750.1'</li>\n",
       "\t<li>'KI270721.1'</li>\n",
       "\t<li>'KI270726.1'</li>\n",
       "\t<li>'KI270711.1'</li>\n",
       "\t<li>'KI270713.1'</li>\n",
       "</ol>\n"
      ],
      "text/latex": [
       "\\begin{enumerate*}\n",
       "\\item '1'\n",
       "\\item '2'\n",
       "\\item '3'\n",
       "\\item '4'\n",
       "\\item '5'\n",
       "\\item '6'\n",
       "\\item '7'\n",
       "\\item 'X'\n",
       "\\item '8'\n",
       "\\item '9'\n",
       "\\item '11'\n",
       "\\item '10'\n",
       "\\item '12'\n",
       "\\item '13'\n",
       "\\item '14'\n",
       "\\item '15'\n",
       "\\item '16'\n",
       "\\item '17'\n",
       "\\item '18'\n",
       "\\item '20'\n",
       "\\item '19'\n",
       "\\item 'Y'\n",
       "\\item '22'\n",
       "\\item '21'\n",
       "\\item 'MT'\n",
       "\\item 'KI270728.1'\n",
       "\\item 'KI270727.1'\n",
       "\\item 'KI270442.1'\n",
       "\\item 'GL000225.1'\n",
       "\\item 'GL000009.2'\n",
       "\\item 'GL000194.1'\n",
       "\\item 'GL000205.2'\n",
       "\\item 'GL000195.1'\n",
       "\\item 'KI270733.1'\n",
       "\\item 'GL000219.1'\n",
       "\\item 'GL000216.2'\n",
       "\\item 'KI270744.1'\n",
       "\\item 'KI270734.1'\n",
       "\\item 'GL000213.1'\n",
       "\\item 'GL000220.1'\n",
       "\\item 'GL000218.1'\n",
       "\\item 'KI270731.1'\n",
       "\\item 'KI270750.1'\n",
       "\\item 'KI270721.1'\n",
       "\\item 'KI270726.1'\n",
       "\\item 'KI270711.1'\n",
       "\\item 'KI270713.1'\n",
       "\\end{enumerate*}\n"
      ],
      "text/markdown": [
       "1. '1'\n",
       "2. '2'\n",
       "3. '3'\n",
       "4. '4'\n",
       "5. '5'\n",
       "6. '6'\n",
       "7. '7'\n",
       "8. 'X'\n",
       "9. '8'\n",
       "10. '9'\n",
       "11. '11'\n",
       "12. '10'\n",
       "13. '12'\n",
       "14. '13'\n",
       "15. '14'\n",
       "16. '15'\n",
       "17. '16'\n",
       "18. '17'\n",
       "19. '18'\n",
       "20. '20'\n",
       "21. '19'\n",
       "22. 'Y'\n",
       "23. '22'\n",
       "24. '21'\n",
       "25. 'MT'\n",
       "26. 'KI270728.1'\n",
       "27. 'KI270727.1'\n",
       "28. 'KI270442.1'\n",
       "29. 'GL000225.1'\n",
       "30. 'GL000009.2'\n",
       "31. 'GL000194.1'\n",
       "32. 'GL000205.2'\n",
       "33. 'GL000195.1'\n",
       "34. 'KI270733.1'\n",
       "35. 'GL000219.1'\n",
       "36. 'GL000216.2'\n",
       "37. 'KI270744.1'\n",
       "38. 'KI270734.1'\n",
       "39. 'GL000213.1'\n",
       "40. 'GL000220.1'\n",
       "41. 'GL000218.1'\n",
       "42. 'KI270731.1'\n",
       "43. 'KI270750.1'\n",
       "44. 'KI270721.1'\n",
       "45. 'KI270726.1'\n",
       "46. 'KI270711.1'\n",
       "47. 'KI270713.1'\n",
       "\n",
       "\n"
      ],
      "text/plain": [
       " [1] \"1\"          \"2\"          \"3\"          \"4\"          \"5\"         \n",
       " [6] \"6\"          \"7\"          \"X\"          \"8\"          \"9\"         \n",
       "[11] \"11\"         \"10\"         \"12\"         \"13\"         \"14\"        \n",
       "[16] \"15\"         \"16\"         \"17\"         \"18\"         \"20\"        \n",
       "[21] \"19\"         \"Y\"          \"22\"         \"21\"         \"MT\"        \n",
       "[26] \"KI270728.1\" \"KI270727.1\" \"KI270442.1\" \"GL000225.1\" \"GL000009.2\"\n",
       "[31] \"GL000194.1\" \"GL000205.2\" \"GL000195.1\" \"KI270733.1\" \"GL000219.1\"\n",
       "[36] \"GL000216.2\" \"KI270744.1\" \"KI270734.1\" \"GL000213.1\" \"GL000220.1\"\n",
       "[41] \"GL000218.1\" \"KI270731.1\" \"KI270750.1\" \"KI270721.1\" \"KI270726.1\"\n",
       "[46] \"KI270711.1\" \"KI270713.1\""
      ]
     },
     "metadata": {},
     "output_type": "display_data"
    }
   ],
   "source": [
    "unique(test$seqnames)"
   ]
  },
  {
   "cell_type": "code",
   "execution_count": 30,
   "metadata": {},
   "outputs": [
    {
     "data": {
      "text/html": [
       "<table>\n",
       "<thead><tr><th scope=col>chr</th><th scope=col>gene_id</th><th scope=col>transcript_id</th><th scope=col>start</th><th scope=col>end</th><th scope=col>0</th><th scope=col>1</th><th scope=col>2</th><th scope=col>3</th><th scope=col>4</th></tr></thead>\n",
       "<tbody>\n",
       "\t<tr><td>21             </td><td>ENSG00000279493</td><td>ENST00000624081</td><td>5011799        </td><td>5017145        </td><td> 0.744         </td><td> 0.744         </td><td> 0.823         </td><td> 0.653         </td><td>-0.117         </td></tr>\n",
       "\t<tr><td>21             </td><td>ENSG00000277117</td><td>ENST00000612610</td><td>5022493        </td><td>5040661        </td><td> 0.684         </td><td>-0.184         </td><td> 0.579         </td><td>-0.319         </td><td> 0.512         </td></tr>\n",
       "\t<tr><td>21             </td><td>ENSG00000277117</td><td>ENST00000620481</td><td>5022493        </td><td>5040666        </td><td> 0.684         </td><td>-0.184         </td><td> 0.579         </td><td>-0.319         </td><td> 0.512         </td></tr>\n",
       "\t<tr><td>21             </td><td>ENSG00000277117</td><td>ENST00000623960</td><td>5022494        </td><td>5036771        </td><td>-0.216         </td><td> 0.684         </td><td>-0.184         </td><td> 0.579         </td><td>-0.319         </td></tr>\n",
       "\t<tr><td>21             </td><td>ENSG00000277117</td><td>ENST00000623903</td><td>5022531        </td><td>5034684        </td><td>-0.126         </td><td> 0.602         </td><td> 0.662         </td><td> 0.602         </td><td> 0.684         </td></tr>\n",
       "\t<tr><td>21             </td><td>ENSG00000277117</td><td>ENST00000623795</td><td>5022533        </td><td>5036125        </td><td> 0.756         </td><td>-0.110         </td><td>-0.126         </td><td> 0.602         </td><td> 0.662         </td></tr>\n",
       "\t<tr><td>21             </td><td>ENSG00000279687</td><td>ENST00000623188</td><td>5073458        </td><td>5087867        </td><td> 0.592         </td><td>-1.049         </td><td>-0.466         </td><td> 0.575         </td><td>-0.808         </td></tr>\n",
       "\t<tr><td>21             </td><td>ENSG00000280071</td><td>ENST00000624810</td><td>5079294        </td><td>5127927        </td><td> 0.353         </td><td>-1.449         </td><td>-0.645         </td><td> 0.353         </td><td> 0.353         </td></tr>\n",
       "\t<tr><td>21             </td><td>ENSG00000280071</td><td>ENST00000625036</td><td>5079294        </td><td>5127927        </td><td> 0.353         </td><td>-1.449         </td><td>-0.645         </td><td> 0.353         </td><td> 0.353         </td></tr>\n",
       "\t<tr><td>21             </td><td>ENSG00000280071</td><td>ENST00000620015</td><td>5116341        </td><td>5127143        </td><td>-0.125         </td><td>-0.300         </td><td>-1.018         </td><td>-1.284         </td><td>-0.687         </td></tr>\n",
       "\t<tr><td>21             </td><td>ENSG00000280071</td><td>ENST00000620528</td><td>5116341        </td><td>5128425        </td><td>-0.125         </td><td>-0.300         </td><td>-1.018         </td><td>-1.284         </td><td>-0.687         </td></tr>\n",
       "\t<tr><td>21             </td><td>ENSG00000280071</td><td>ENST00000624120</td><td>5116937        </td><td>5128372        </td><td>-0.490         </td><td>-0.690         </td><td> 0.001         </td><td>-0.601         </td><td> 0.868         </td></tr>\n",
       "\t<tr><td>21             </td><td>ENSG00000280071</td><td>ENST00000624748</td><td>5120634        </td><td>5124868        </td><td> 0.288         </td><td> 0.236         </td><td>-2.125         </td><td> 0.265         </td><td> 0.288         </td></tr>\n",
       "\t<tr><td>21             </td><td>ENSG00000280071</td><td>ENST00000624648</td><td>5120634        </td><td>5128273        </td><td> 0.288         </td><td> 0.236         </td><td>-2.125         </td><td> 0.265         </td><td> 0.288         </td></tr>\n",
       "\t<tr><td>21             </td><td>ENSG00000280071</td><td>ENST00000623810</td><td>5120636        </td><td>5128413        </td><td> 0.288         </td><td> 0.236         </td><td> 0.288         </td><td> 0.236         </td><td>-2.125         </td></tr>\n",
       "\t<tr><td>21             </td><td>ENSG00000280071</td><td>ENST00000624714</td><td>5121449        </td><td>5128378        </td><td> 0.694         </td><td> 0.671         </td><td> 0.610         </td><td>-0.660         </td><td>-0.127         </td></tr>\n",
       "\t<tr><td>21             </td><td>ENSG00000280071</td><td>ENST00000623390</td><td>5122013        </td><td>5127927        </td><td>-0.710         </td><td>-1.008         </td><td>-0.176         </td><td>-0.172         </td><td>-0.175         </td></tr>\n",
       "\t<tr><td>21             </td><td>ENSG00000280071</td><td>ENST00000622915</td><td>5124486        </td><td>5125178        </td><td> 0.568         </td><td>-0.154         </td><td>-1.002         </td><td>-0.920         </td><td>-1.029         </td></tr>\n",
       "\t<tr><td>21             </td><td>ENSG00000276612</td><td>ENST00000623476</td><td>5116343        </td><td>5133805        </td><td>-0.092         </td><td>-3.488         </td><td>-0.125         </td><td>-0.300         </td><td>-1.018         </td></tr>\n",
       "\t<tr><td>21             </td><td>ENSG00000275464</td><td>ENST00000617716</td><td>5130871        </td><td>5154734        </td><td> 0.793         </td><td> 0.879         </td><td>-0.853         </td><td>-0.948         </td><td>-0.533         </td></tr>\n",
       "\t<tr><td>21             </td><td>ENSG00000275464</td><td>ENST00000632537</td><td>5133453        </td><td>5136043        </td><td> 0.975         </td><td> 0.975         </td><td> 0.111         </td><td> 0.855         </td><td> 0.152         </td></tr>\n",
       "\t<tr><td>21             </td><td>ENSG00000275464</td><td>ENST00000623011</td><td>5134199        </td><td>5142896        </td><td>-1.048         </td><td>-1.459         </td><td>-1.045         </td><td>-0.783         </td><td>-1.555         </td></tr>\n",
       "\t<tr><td>21             </td><td>ENSG00000275464</td><td>ENST00000624312</td><td>5136988        </td><td>5137939        </td><td> 0.401         </td><td> 0.455         </td><td> 0.416         </td><td>-0.433         </td><td> 0.401         </td></tr>\n",
       "\t<tr><td>21             </td><td>ENSG00000275464</td><td>ENST00000633442</td><td>5143222        </td><td>5144724        </td><td> 0.975         </td><td> 1.086         </td><td> 0.975         </td><td>-0.684         </td><td> 0.855         </td></tr>\n",
       "\t<tr><td>21             </td><td>ENSG00000275464</td><td>ENST00000633593</td><td>5143222        </td><td>5145445        </td><td> 0.975         </td><td> 1.086         </td><td> 0.975         </td><td>-0.684         </td><td> 0.855         </td></tr>\n",
       "\t<tr><td>21             </td><td>ENSG00000275464</td><td>ENST00000634020</td><td>5147349        </td><td>5154527        </td><td> 0.947         </td><td>-0.136         </td><td> 0.017         </td><td> 0.947         </td><td> 0.947         </td></tr>\n",
       "\t<tr><td>21             </td><td>ENSG00000275464</td><td>ENST00000634021</td><td>5147390        </td><td>5154247        </td><td> 1.086         </td><td> 0.088         </td><td> 0.947         </td><td> 0.975         </td><td> 0.068         </td></tr>\n",
       "\t<tr><td>21             </td><td>ENSG00000280433</td><td>ENST00000623998</td><td>5155499        </td><td>5163695        </td><td>-0.556         </td><td>-0.336         </td><td> 0.947         </td><td> 0.067         </td><td> 1.086         </td></tr>\n",
       "\t<tr><td>21             </td><td>ENSG00000280433</td><td>ENST00000623744</td><td>5157012        </td><td>5165472        </td><td>-0.018         </td><td> 0.883         </td><td>-0.152         </td><td>-0.266         </td><td> 0.678         </td></tr>\n",
       "\t<tr><td>21             </td><td>ENSG00000279669</td><td>ENST00000623753</td><td>5232668        </td><td>5243833        </td><td> 0.253         </td><td>-0.862         </td><td>-0.771         </td><td> 0.310         </td><td> 0.253         </td></tr>\n",
       "\t<tr><td>...</td><td>...</td><td>...</td><td>...</td><td>...</td><td>...</td><td>...</td><td>...</td><td>...</td><td>...</td></tr>\n",
       "\t<tr><td>21             </td><td>ENSG00000159110</td><td>ENST00000447980</td><td>33230409       </td><td>33248854       </td><td> 0.435         </td><td> 0.383         </td><td> 0.398         </td><td> 0.435         </td><td>-2.675         </td></tr>\n",
       "\t<tr><td>21             </td><td>ENSG00000159110</td><td>ENST00000417007</td><td>33248744       </td><td>33262757       </td><td> 0.133         </td><td> 0.133         </td><td> 0.133         </td><td> 0.133         </td><td> 0.138         </td></tr>\n",
       "\t<tr><td>21             </td><td>ENSG00000249624</td><td>ENST00000646150</td><td>33229901       </td><td>33297160       </td><td>-0.807         </td><td>-0.233         </td><td> 0.231         </td><td> 0.074         </td><td> 0.941         </td></tr>\n",
       "\t<tr><td>21             </td><td>ENSG00000249624</td><td>ENST00000433395</td><td>33246774       </td><td>33283212       </td><td> 0.152         </td><td> 0.184         </td><td> 0.164         </td><td> 0.184         </td><td>-1.239         </td></tr>\n",
       "\t<tr><td>21             </td><td>ENSG00000249624</td><td>ENST00000432231</td><td>33248715       </td><td>33283212       </td><td> 0.133         </td><td> 0.133         </td><td> 0.133         </td><td> 0.124         </td><td> 0.124         </td></tr>\n",
       "\t<tr><td>21             </td><td>ENSG00000223799</td><td>ENST00000411998</td><td>33263873       </td><td>33266260       </td><td>-0.017         </td><td>-0.744         </td><td> 0.021         </td><td>-0.653         </td><td> 0.818         </td></tr>\n",
       "\t<tr><td>21             </td><td>ENSG00000243646</td><td>ENST00000290200</td><td>33266358       </td><td>33297234       </td><td>-1.028         </td><td>-1.453         </td><td> 0.028         </td><td>-0.962         </td><td> 0.971         </td></tr>\n",
       "\t<tr><td>21             </td><td>ENSG00000243646</td><td>ENST00000422891</td><td>33266382       </td><td>33296239       </td><td> 0.810         </td><td> 0.029         </td><td>-0.090         </td><td>-0.018         </td><td>-0.361         </td></tr>\n",
       "\t<tr><td>21             </td><td>ENSG00000243646</td><td>ENST00000493295</td><td>33267928       </td><td>33296953       </td><td> 0.034         </td><td> 1.176         </td><td> 0.228         </td><td> 0.194         </td><td> 0.131         </td></tr>\n",
       "\t<tr><td>21             </td><td>ENSG00000243646</td><td>ENST00000498371</td><td>33268282       </td><td>33288120       </td><td> 1.109         </td><td>-0.920         </td><td> 0.113         </td><td> 0.212         </td><td>-0.210         </td></tr>\n",
       "\t<tr><td>21             </td><td>ENSG00000243646</td><td>ENST00000451065</td><td>33276612       </td><td>33296350       </td><td> 0.815         </td><td> 0.900         </td><td> 0.815         </td><td>-0.849         </td><td>-0.367         </td></tr>\n",
       "\t<tr><td>21             </td><td>ENSG00000243646</td><td>ENST00000637650</td><td>33288133       </td><td>33310187       </td><td> 0.700         </td><td>-0.662         </td><td>-0.111         </td><td>-0.157         </td><td>-0.154         </td></tr>\n",
       "\t<tr><td>21             </td><td>ENSG00000243646</td><td>ENST00000609556</td><td>33288133       </td><td>33310187       </td><td> 0.700         </td><td>-0.662         </td><td>-0.111         </td><td>-0.157         </td><td>-0.154         </td></tr>\n",
       "\t<tr><td>21             </td><td>ENSG00000142166</td><td>ENST00000493503</td><td>33324477       </td><td>33335611       </td><td> 0.555         </td><td> 0.555         </td><td> 0.503         </td><td>-0.263         </td><td> 0.490         </td></tr>\n",
       "\t<tr><td>21             </td><td>ENSG00000142166</td><td>ENST00000270139</td><td>33324904       </td><td>33359862       </td><td> 0.602         </td><td> 0.685         </td><td> 0.685         </td><td>-0.206         </td><td>-0.224         </td></tr>\n",
       "\t<tr><td>21             </td><td>ENSG00000142166</td><td>ENST00000442071</td><td>33324973       </td><td>33345277       </td><td>-0.513         </td><td>-0.230         </td><td>-0.230         </td><td> 0.591         </td><td>-0.169         </td></tr>\n",
       "\t<tr><td>21             </td><td>ENSG00000226501</td><td>ENST00000451645</td><td>33334571       </td><td>33335096       </td><td> 0.997         </td><td> 0.627         </td><td> 0.690         </td><td> 0.627         </td><td>-0.165         </td></tr>\n",
       "\t<tr><td>21             </td><td>ENSG00000159128</td><td>ENST00000290219</td><td>33402896       </td><td>33437521       </td><td>-0.681         </td><td> 0.662         </td><td>-0.104         </td><td>-0.722         </td><td>-0.193         </td></tr>\n",
       "\t<tr><td>21             </td><td>ENSG00000159128</td><td>ENST00000439213</td><td>33403427       </td><td>33432216       </td><td> 0.662         </td><td>-0.267         </td><td> 0.757         </td><td> 0.602         </td><td> 0.602         </td></tr>\n",
       "\t<tr><td>21             </td><td>ENSG00000159128</td><td>ENST00000381995</td><td>33403432       </td><td>33437521       </td><td>-0.699         </td><td> 0.757         </td><td> 0.685         </td><td> 0.662         </td><td> 0.685         </td></tr>\n",
       "\t<tr><td>21             </td><td>ENSG00000159128</td><td>ENST00000545369</td><td>33403441       </td><td>33436944       </td><td> 0.561         </td><td>-0.159         </td><td>-0.159         </td><td> 0.542         </td><td>-0.233         </td></tr>\n",
       "\t<tr><td>21             </td><td>ENSG00000159128</td><td>ENST00000405436</td><td>33403466       </td><td>33437502       </td><td>-0.053         </td><td>-0.747         </td><td>-2.356         </td><td> 0.757         </td><td> 0.685         </td></tr>\n",
       "\t<tr><td>21             </td><td>ENSG00000159128</td><td>ENST00000421802</td><td>33432319       </td><td>33479348       </td><td>-0.198         </td><td> 0.206         </td><td>-0.153         </td><td>-0.186         </td><td> 0.138         </td></tr>\n",
       "\t<tr><td>21             </td><td>ENSG00000142188</td><td>ENST00000484377</td><td>33432485       </td><td>33448964       </td><td> 1.312         </td><td> 1.176         </td><td> 0.200         </td><td>-0.162         </td><td>-0.035         </td></tr>\n",
       "\t<tr><td>21             </td><td>ENSG00000142188</td><td>ENST00000420455</td><td>33432485       </td><td>33479943       </td><td> 1.312         </td><td> 1.176         </td><td> 0.200         </td><td>-0.162         </td><td>-0.035         </td></tr>\n",
       "\t<tr><td>21             </td><td>ENSG00000142188</td><td>ENST00000470682</td><td>33432798       </td><td>33449410       </td><td>-0.160         </td><td> 1.151         </td><td> 1.284         </td><td> 1.115         </td><td> 0.207         </td></tr>\n",
       "\t<tr><td>21             </td><td>ENSG00000142188</td><td>ENST00000468874</td><td>33436884       </td><td>33449189       </td><td> 0.170         </td><td> 0.184         </td><td> 0.152         </td><td> 0.164         </td><td> 0.164         </td></tr>\n",
       "\t<tr><td>21             </td><td>ENSG00000142188</td><td>ENST00000542230</td><td>33449135       </td><td>33480011       </td><td> 0.776         </td><td>-0.081         </td><td>-0.084         </td><td> 0.776         </td><td> 0.704         </td></tr>\n",
       "\t<tr><td>21             </td><td>ENSG00000142188</td><td>ENST00000441128</td><td>33450521       </td><td>33468926       </td><td> 0.708         </td><td> 0.809         </td><td>-0.022         </td><td> 0.780         </td><td> 0.856         </td></tr>\n",
       "\t<tr><td>21             </td><td>ENSG00000142188</td><td>ENST00000442441</td><td>33450547       </td><td>33479936       </td><td> 0.981         </td><td>-0.291         </td><td> 0.100         </td><td>-0.277         </td><td>-4.145         </td></tr>\n",
       "</tbody>\n",
       "</table>\n"
      ],
      "text/latex": [
       "\\begin{tabular}{r|llllllllll}\n",
       " chr & gene\\_id & transcript\\_id & start & end & 0 & 1 & 2 & 3 & 4\\\\\n",
       "\\hline\n",
       "\t 21              & ENSG00000279493 & ENST00000624081 & 5011799         & 5017145         &  0.744          &  0.744          &  0.823          &  0.653          & -0.117         \\\\\n",
       "\t 21              & ENSG00000277117 & ENST00000612610 & 5022493         & 5040661         &  0.684          & -0.184          &  0.579          & -0.319          &  0.512         \\\\\n",
       "\t 21              & ENSG00000277117 & ENST00000620481 & 5022493         & 5040666         &  0.684          & -0.184          &  0.579          & -0.319          &  0.512         \\\\\n",
       "\t 21              & ENSG00000277117 & ENST00000623960 & 5022494         & 5036771         & -0.216          &  0.684          & -0.184          &  0.579          & -0.319         \\\\\n",
       "\t 21              & ENSG00000277117 & ENST00000623903 & 5022531         & 5034684         & -0.126          &  0.602          &  0.662          &  0.602          &  0.684         \\\\\n",
       "\t 21              & ENSG00000277117 & ENST00000623795 & 5022533         & 5036125         &  0.756          & -0.110          & -0.126          &  0.602          &  0.662         \\\\\n",
       "\t 21              & ENSG00000279687 & ENST00000623188 & 5073458         & 5087867         &  0.592          & -1.049          & -0.466          &  0.575          & -0.808         \\\\\n",
       "\t 21              & ENSG00000280071 & ENST00000624810 & 5079294         & 5127927         &  0.353          & -1.449          & -0.645          &  0.353          &  0.353         \\\\\n",
       "\t 21              & ENSG00000280071 & ENST00000625036 & 5079294         & 5127927         &  0.353          & -1.449          & -0.645          &  0.353          &  0.353         \\\\\n",
       "\t 21              & ENSG00000280071 & ENST00000620015 & 5116341         & 5127143         & -0.125          & -0.300          & -1.018          & -1.284          & -0.687         \\\\\n",
       "\t 21              & ENSG00000280071 & ENST00000620528 & 5116341         & 5128425         & -0.125          & -0.300          & -1.018          & -1.284          & -0.687         \\\\\n",
       "\t 21              & ENSG00000280071 & ENST00000624120 & 5116937         & 5128372         & -0.490          & -0.690          &  0.001          & -0.601          &  0.868         \\\\\n",
       "\t 21              & ENSG00000280071 & ENST00000624748 & 5120634         & 5124868         &  0.288          &  0.236          & -2.125          &  0.265          &  0.288         \\\\\n",
       "\t 21              & ENSG00000280071 & ENST00000624648 & 5120634         & 5128273         &  0.288          &  0.236          & -2.125          &  0.265          &  0.288         \\\\\n",
       "\t 21              & ENSG00000280071 & ENST00000623810 & 5120636         & 5128413         &  0.288          &  0.236          &  0.288          &  0.236          & -2.125         \\\\\n",
       "\t 21              & ENSG00000280071 & ENST00000624714 & 5121449         & 5128378         &  0.694          &  0.671          &  0.610          & -0.660          & -0.127         \\\\\n",
       "\t 21              & ENSG00000280071 & ENST00000623390 & 5122013         & 5127927         & -0.710          & -1.008          & -0.176          & -0.172          & -0.175         \\\\\n",
       "\t 21              & ENSG00000280071 & ENST00000622915 & 5124486         & 5125178         &  0.568          & -0.154          & -1.002          & -0.920          & -1.029         \\\\\n",
       "\t 21              & ENSG00000276612 & ENST00000623476 & 5116343         & 5133805         & -0.092          & -3.488          & -0.125          & -0.300          & -1.018         \\\\\n",
       "\t 21              & ENSG00000275464 & ENST00000617716 & 5130871         & 5154734         &  0.793          &  0.879          & -0.853          & -0.948          & -0.533         \\\\\n",
       "\t 21              & ENSG00000275464 & ENST00000632537 & 5133453         & 5136043         &  0.975          &  0.975          &  0.111          &  0.855          &  0.152         \\\\\n",
       "\t 21              & ENSG00000275464 & ENST00000623011 & 5134199         & 5142896         & -1.048          & -1.459          & -1.045          & -0.783          & -1.555         \\\\\n",
       "\t 21              & ENSG00000275464 & ENST00000624312 & 5136988         & 5137939         &  0.401          &  0.455          &  0.416          & -0.433          &  0.401         \\\\\n",
       "\t 21              & ENSG00000275464 & ENST00000633442 & 5143222         & 5144724         &  0.975          &  1.086          &  0.975          & -0.684          &  0.855         \\\\\n",
       "\t 21              & ENSG00000275464 & ENST00000633593 & 5143222         & 5145445         &  0.975          &  1.086          &  0.975          & -0.684          &  0.855         \\\\\n",
       "\t 21              & ENSG00000275464 & ENST00000634020 & 5147349         & 5154527         &  0.947          & -0.136          &  0.017          &  0.947          &  0.947         \\\\\n",
       "\t 21              & ENSG00000275464 & ENST00000634021 & 5147390         & 5154247         &  1.086          &  0.088          &  0.947          &  0.975          &  0.068         \\\\\n",
       "\t 21              & ENSG00000280433 & ENST00000623998 & 5155499         & 5163695         & -0.556          & -0.336          &  0.947          &  0.067          &  1.086         \\\\\n",
       "\t 21              & ENSG00000280433 & ENST00000623744 & 5157012         & 5165472         & -0.018          &  0.883          & -0.152          & -0.266          &  0.678         \\\\\n",
       "\t 21              & ENSG00000279669 & ENST00000623753 & 5232668         & 5243833         &  0.253          & -0.862          & -0.771          &  0.310          &  0.253         \\\\\n",
       "\t ... & ... & ... & ... & ... & ... & ... & ... & ... & ...\\\\\n",
       "\t 21              & ENSG00000159110 & ENST00000447980 & 33230409        & 33248854        &  0.435          &  0.383          &  0.398          &  0.435          & -2.675         \\\\\n",
       "\t 21              & ENSG00000159110 & ENST00000417007 & 33248744        & 33262757        &  0.133          &  0.133          &  0.133          &  0.133          &  0.138         \\\\\n",
       "\t 21              & ENSG00000249624 & ENST00000646150 & 33229901        & 33297160        & -0.807          & -0.233          &  0.231          &  0.074          &  0.941         \\\\\n",
       "\t 21              & ENSG00000249624 & ENST00000433395 & 33246774        & 33283212        &  0.152          &  0.184          &  0.164          &  0.184          & -1.239         \\\\\n",
       "\t 21              & ENSG00000249624 & ENST00000432231 & 33248715        & 33283212        &  0.133          &  0.133          &  0.133          &  0.124          &  0.124         \\\\\n",
       "\t 21              & ENSG00000223799 & ENST00000411998 & 33263873        & 33266260        & -0.017          & -0.744          &  0.021          & -0.653          &  0.818         \\\\\n",
       "\t 21              & ENSG00000243646 & ENST00000290200 & 33266358        & 33297234        & -1.028          & -1.453          &  0.028          & -0.962          &  0.971         \\\\\n",
       "\t 21              & ENSG00000243646 & ENST00000422891 & 33266382        & 33296239        &  0.810          &  0.029          & -0.090          & -0.018          & -0.361         \\\\\n",
       "\t 21              & ENSG00000243646 & ENST00000493295 & 33267928        & 33296953        &  0.034          &  1.176          &  0.228          &  0.194          &  0.131         \\\\\n",
       "\t 21              & ENSG00000243646 & ENST00000498371 & 33268282        & 33288120        &  1.109          & -0.920          &  0.113          &  0.212          & -0.210         \\\\\n",
       "\t 21              & ENSG00000243646 & ENST00000451065 & 33276612        & 33296350        &  0.815          &  0.900          &  0.815          & -0.849          & -0.367         \\\\\n",
       "\t 21              & ENSG00000243646 & ENST00000637650 & 33288133        & 33310187        &  0.700          & -0.662          & -0.111          & -0.157          & -0.154         \\\\\n",
       "\t 21              & ENSG00000243646 & ENST00000609556 & 33288133        & 33310187        &  0.700          & -0.662          & -0.111          & -0.157          & -0.154         \\\\\n",
       "\t 21              & ENSG00000142166 & ENST00000493503 & 33324477        & 33335611        &  0.555          &  0.555          &  0.503          & -0.263          &  0.490         \\\\\n",
       "\t 21              & ENSG00000142166 & ENST00000270139 & 33324904        & 33359862        &  0.602          &  0.685          &  0.685          & -0.206          & -0.224         \\\\\n",
       "\t 21              & ENSG00000142166 & ENST00000442071 & 33324973        & 33345277        & -0.513          & -0.230          & -0.230          &  0.591          & -0.169         \\\\\n",
       "\t 21              & ENSG00000226501 & ENST00000451645 & 33334571        & 33335096        &  0.997          &  0.627          &  0.690          &  0.627          & -0.165         \\\\\n",
       "\t 21              & ENSG00000159128 & ENST00000290219 & 33402896        & 33437521        & -0.681          &  0.662          & -0.104          & -0.722          & -0.193         \\\\\n",
       "\t 21              & ENSG00000159128 & ENST00000439213 & 33403427        & 33432216        &  0.662          & -0.267          &  0.757          &  0.602          &  0.602         \\\\\n",
       "\t 21              & ENSG00000159128 & ENST00000381995 & 33403432        & 33437521        & -0.699          &  0.757          &  0.685          &  0.662          &  0.685         \\\\\n",
       "\t 21              & ENSG00000159128 & ENST00000545369 & 33403441        & 33436944        &  0.561          & -0.159          & -0.159          &  0.542          & -0.233         \\\\\n",
       "\t 21              & ENSG00000159128 & ENST00000405436 & 33403466        & 33437502        & -0.053          & -0.747          & -2.356          &  0.757          &  0.685         \\\\\n",
       "\t 21              & ENSG00000159128 & ENST00000421802 & 33432319        & 33479348        & -0.198          &  0.206          & -0.153          & -0.186          &  0.138         \\\\\n",
       "\t 21              & ENSG00000142188 & ENST00000484377 & 33432485        & 33448964        &  1.312          &  1.176          &  0.200          & -0.162          & -0.035         \\\\\n",
       "\t 21              & ENSG00000142188 & ENST00000420455 & 33432485        & 33479943        &  1.312          &  1.176          &  0.200          & -0.162          & -0.035         \\\\\n",
       "\t 21              & ENSG00000142188 & ENST00000470682 & 33432798        & 33449410        & -0.160          &  1.151          &  1.284          &  1.115          &  0.207         \\\\\n",
       "\t 21              & ENSG00000142188 & ENST00000468874 & 33436884        & 33449189        &  0.170          &  0.184          &  0.152          &  0.164          &  0.164         \\\\\n",
       "\t 21              & ENSG00000142188 & ENST00000542230 & 33449135        & 33480011        &  0.776          & -0.081          & -0.084          &  0.776          &  0.704         \\\\\n",
       "\t 21              & ENSG00000142188 & ENST00000441128 & 33450521        & 33468926        &  0.708          &  0.809          & -0.022          &  0.780          &  0.856         \\\\\n",
       "\t 21              & ENSG00000142188 & ENST00000442441 & 33450547        & 33479936        &  0.981          & -0.291          &  0.100          & -0.277          & -4.145         \\\\\n",
       "\\end{tabular}\n"
      ],
      "text/markdown": [
       "\n",
       "chr | gene_id | transcript_id | start | end | 0 | 1 | 2 | 3 | 4 | \n",
       "|---|---|---|---|---|---|---|---|---|---|---|---|---|---|---|---|---|---|---|---|---|---|---|---|---|---|---|---|---|---|---|---|---|---|---|---|---|---|---|---|---|---|---|---|---|---|---|---|---|---|---|---|---|---|---|---|---|---|---|---|---|\n",
       "| 21              | ENSG00000279493 | ENST00000624081 | 5011799         | 5017145         |  0.744          |  0.744          |  0.823          |  0.653          | -0.117          | \n",
       "| 21              | ENSG00000277117 | ENST00000612610 | 5022493         | 5040661         |  0.684          | -0.184          |  0.579          | -0.319          |  0.512          | \n",
       "| 21              | ENSG00000277117 | ENST00000620481 | 5022493         | 5040666         |  0.684          | -0.184          |  0.579          | -0.319          |  0.512          | \n",
       "| 21              | ENSG00000277117 | ENST00000623960 | 5022494         | 5036771         | -0.216          |  0.684          | -0.184          |  0.579          | -0.319          | \n",
       "| 21              | ENSG00000277117 | ENST00000623903 | 5022531         | 5034684         | -0.126          |  0.602          |  0.662          |  0.602          |  0.684          | \n",
       "| 21              | ENSG00000277117 | ENST00000623795 | 5022533         | 5036125         |  0.756          | -0.110          | -0.126          |  0.602          |  0.662          | \n",
       "| 21              | ENSG00000279687 | ENST00000623188 | 5073458         | 5087867         |  0.592          | -1.049          | -0.466          |  0.575          | -0.808          | \n",
       "| 21              | ENSG00000280071 | ENST00000624810 | 5079294         | 5127927         |  0.353          | -1.449          | -0.645          |  0.353          |  0.353          | \n",
       "| 21              | ENSG00000280071 | ENST00000625036 | 5079294         | 5127927         |  0.353          | -1.449          | -0.645          |  0.353          |  0.353          | \n",
       "| 21              | ENSG00000280071 | ENST00000620015 | 5116341         | 5127143         | -0.125          | -0.300          | -1.018          | -1.284          | -0.687          | \n",
       "| 21              | ENSG00000280071 | ENST00000620528 | 5116341         | 5128425         | -0.125          | -0.300          | -1.018          | -1.284          | -0.687          | \n",
       "| 21              | ENSG00000280071 | ENST00000624120 | 5116937         | 5128372         | -0.490          | -0.690          |  0.001          | -0.601          |  0.868          | \n",
       "| 21              | ENSG00000280071 | ENST00000624748 | 5120634         | 5124868         |  0.288          |  0.236          | -2.125          |  0.265          |  0.288          | \n",
       "| 21              | ENSG00000280071 | ENST00000624648 | 5120634         | 5128273         |  0.288          |  0.236          | -2.125          |  0.265          |  0.288          | \n",
       "| 21              | ENSG00000280071 | ENST00000623810 | 5120636         | 5128413         |  0.288          |  0.236          |  0.288          |  0.236          | -2.125          | \n",
       "| 21              | ENSG00000280071 | ENST00000624714 | 5121449         | 5128378         |  0.694          |  0.671          |  0.610          | -0.660          | -0.127          | \n",
       "| 21              | ENSG00000280071 | ENST00000623390 | 5122013         | 5127927         | -0.710          | -1.008          | -0.176          | -0.172          | -0.175          | \n",
       "| 21              | ENSG00000280071 | ENST00000622915 | 5124486         | 5125178         |  0.568          | -0.154          | -1.002          | -0.920          | -1.029          | \n",
       "| 21              | ENSG00000276612 | ENST00000623476 | 5116343         | 5133805         | -0.092          | -3.488          | -0.125          | -0.300          | -1.018          | \n",
       "| 21              | ENSG00000275464 | ENST00000617716 | 5130871         | 5154734         |  0.793          |  0.879          | -0.853          | -0.948          | -0.533          | \n",
       "| 21              | ENSG00000275464 | ENST00000632537 | 5133453         | 5136043         |  0.975          |  0.975          |  0.111          |  0.855          |  0.152          | \n",
       "| 21              | ENSG00000275464 | ENST00000623011 | 5134199         | 5142896         | -1.048          | -1.459          | -1.045          | -0.783          | -1.555          | \n",
       "| 21              | ENSG00000275464 | ENST00000624312 | 5136988         | 5137939         |  0.401          |  0.455          |  0.416          | -0.433          |  0.401          | \n",
       "| 21              | ENSG00000275464 | ENST00000633442 | 5143222         | 5144724         |  0.975          |  1.086          |  0.975          | -0.684          |  0.855          | \n",
       "| 21              | ENSG00000275464 | ENST00000633593 | 5143222         | 5145445         |  0.975          |  1.086          |  0.975          | -0.684          |  0.855          | \n",
       "| 21              | ENSG00000275464 | ENST00000634020 | 5147349         | 5154527         |  0.947          | -0.136          |  0.017          |  0.947          |  0.947          | \n",
       "| 21              | ENSG00000275464 | ENST00000634021 | 5147390         | 5154247         |  1.086          |  0.088          |  0.947          |  0.975          |  0.068          | \n",
       "| 21              | ENSG00000280433 | ENST00000623998 | 5155499         | 5163695         | -0.556          | -0.336          |  0.947          |  0.067          |  1.086          | \n",
       "| 21              | ENSG00000280433 | ENST00000623744 | 5157012         | 5165472         | -0.018          |  0.883          | -0.152          | -0.266          |  0.678          | \n",
       "| 21              | ENSG00000279669 | ENST00000623753 | 5232668         | 5243833         |  0.253          | -0.862          | -0.771          |  0.310          |  0.253          | \n",
       "| ... | ... | ... | ... | ... | ... | ... | ... | ... | ... | \n",
       "| 21              | ENSG00000159110 | ENST00000447980 | 33230409        | 33248854        |  0.435          |  0.383          |  0.398          |  0.435          | -2.675          | \n",
       "| 21              | ENSG00000159110 | ENST00000417007 | 33248744        | 33262757        |  0.133          |  0.133          |  0.133          |  0.133          |  0.138          | \n",
       "| 21              | ENSG00000249624 | ENST00000646150 | 33229901        | 33297160        | -0.807          | -0.233          |  0.231          |  0.074          |  0.941          | \n",
       "| 21              | ENSG00000249624 | ENST00000433395 | 33246774        | 33283212        |  0.152          |  0.184          |  0.164          |  0.184          | -1.239          | \n",
       "| 21              | ENSG00000249624 | ENST00000432231 | 33248715        | 33283212        |  0.133          |  0.133          |  0.133          |  0.124          |  0.124          | \n",
       "| 21              | ENSG00000223799 | ENST00000411998 | 33263873        | 33266260        | -0.017          | -0.744          |  0.021          | -0.653          |  0.818          | \n",
       "| 21              | ENSG00000243646 | ENST00000290200 | 33266358        | 33297234        | -1.028          | -1.453          |  0.028          | -0.962          |  0.971          | \n",
       "| 21              | ENSG00000243646 | ENST00000422891 | 33266382        | 33296239        |  0.810          |  0.029          | -0.090          | -0.018          | -0.361          | \n",
       "| 21              | ENSG00000243646 | ENST00000493295 | 33267928        | 33296953        |  0.034          |  1.176          |  0.228          |  0.194          |  0.131          | \n",
       "| 21              | ENSG00000243646 | ENST00000498371 | 33268282        | 33288120        |  1.109          | -0.920          |  0.113          |  0.212          | -0.210          | \n",
       "| 21              | ENSG00000243646 | ENST00000451065 | 33276612        | 33296350        |  0.815          |  0.900          |  0.815          | -0.849          | -0.367          | \n",
       "| 21              | ENSG00000243646 | ENST00000637650 | 33288133        | 33310187        |  0.700          | -0.662          | -0.111          | -0.157          | -0.154          | \n",
       "| 21              | ENSG00000243646 | ENST00000609556 | 33288133        | 33310187        |  0.700          | -0.662          | -0.111          | -0.157          | -0.154          | \n",
       "| 21              | ENSG00000142166 | ENST00000493503 | 33324477        | 33335611        |  0.555          |  0.555          |  0.503          | -0.263          |  0.490          | \n",
       "| 21              | ENSG00000142166 | ENST00000270139 | 33324904        | 33359862        |  0.602          |  0.685          |  0.685          | -0.206          | -0.224          | \n",
       "| 21              | ENSG00000142166 | ENST00000442071 | 33324973        | 33345277        | -0.513          | -0.230          | -0.230          |  0.591          | -0.169          | \n",
       "| 21              | ENSG00000226501 | ENST00000451645 | 33334571        | 33335096        |  0.997          |  0.627          |  0.690          |  0.627          | -0.165          | \n",
       "| 21              | ENSG00000159128 | ENST00000290219 | 33402896        | 33437521        | -0.681          |  0.662          | -0.104          | -0.722          | -0.193          | \n",
       "| 21              | ENSG00000159128 | ENST00000439213 | 33403427        | 33432216        |  0.662          | -0.267          |  0.757          |  0.602          |  0.602          | \n",
       "| 21              | ENSG00000159128 | ENST00000381995 | 33403432        | 33437521        | -0.699          |  0.757          |  0.685          |  0.662          |  0.685          | \n",
       "| 21              | ENSG00000159128 | ENST00000545369 | 33403441        | 33436944        |  0.561          | -0.159          | -0.159          |  0.542          | -0.233          | \n",
       "| 21              | ENSG00000159128 | ENST00000405436 | 33403466        | 33437502        | -0.053          | -0.747          | -2.356          |  0.757          |  0.685          | \n",
       "| 21              | ENSG00000159128 | ENST00000421802 | 33432319        | 33479348        | -0.198          |  0.206          | -0.153          | -0.186          |  0.138          | \n",
       "| 21              | ENSG00000142188 | ENST00000484377 | 33432485        | 33448964        |  1.312          |  1.176          |  0.200          | -0.162          | -0.035          | \n",
       "| 21              | ENSG00000142188 | ENST00000420455 | 33432485        | 33479943        |  1.312          |  1.176          |  0.200          | -0.162          | -0.035          | \n",
       "| 21              | ENSG00000142188 | ENST00000470682 | 33432798        | 33449410        | -0.160          |  1.151          |  1.284          |  1.115          |  0.207          | \n",
       "| 21              | ENSG00000142188 | ENST00000468874 | 33436884        | 33449189        |  0.170          |  0.184          |  0.152          |  0.164          |  0.164          | \n",
       "| 21              | ENSG00000142188 | ENST00000542230 | 33449135        | 33480011        |  0.776          | -0.081          | -0.084          |  0.776          |  0.704          | \n",
       "| 21              | ENSG00000142188 | ENST00000441128 | 33450521        | 33468926        |  0.708          |  0.809          | -0.022          |  0.780          |  0.856          | \n",
       "| 21              | ENSG00000142188 | ENST00000442441 | 33450547        | 33479936        |  0.981          | -0.291          |  0.100          | -0.277          | -4.145          | \n",
       "\n",
       "\n"
      ],
      "text/plain": [
       "    chr gene_id         transcript_id   start    end      0      1      2     \n",
       "1   21  ENSG00000279493 ENST00000624081 5011799  5017145   0.744  0.744  0.823\n",
       "2   21  ENSG00000277117 ENST00000612610 5022493  5040661   0.684 -0.184  0.579\n",
       "3   21  ENSG00000277117 ENST00000620481 5022493  5040666   0.684 -0.184  0.579\n",
       "4   21  ENSG00000277117 ENST00000623960 5022494  5036771  -0.216  0.684 -0.184\n",
       "5   21  ENSG00000277117 ENST00000623903 5022531  5034684  -0.126  0.602  0.662\n",
       "6   21  ENSG00000277117 ENST00000623795 5022533  5036125   0.756 -0.110 -0.126\n",
       "7   21  ENSG00000279687 ENST00000623188 5073458  5087867   0.592 -1.049 -0.466\n",
       "8   21  ENSG00000280071 ENST00000624810 5079294  5127927   0.353 -1.449 -0.645\n",
       "9   21  ENSG00000280071 ENST00000625036 5079294  5127927   0.353 -1.449 -0.645\n",
       "10  21  ENSG00000280071 ENST00000620015 5116341  5127143  -0.125 -0.300 -1.018\n",
       "11  21  ENSG00000280071 ENST00000620528 5116341  5128425  -0.125 -0.300 -1.018\n",
       "12  21  ENSG00000280071 ENST00000624120 5116937  5128372  -0.490 -0.690  0.001\n",
       "13  21  ENSG00000280071 ENST00000624748 5120634  5124868   0.288  0.236 -2.125\n",
       "14  21  ENSG00000280071 ENST00000624648 5120634  5128273   0.288  0.236 -2.125\n",
       "15  21  ENSG00000280071 ENST00000623810 5120636  5128413   0.288  0.236  0.288\n",
       "16  21  ENSG00000280071 ENST00000624714 5121449  5128378   0.694  0.671  0.610\n",
       "17  21  ENSG00000280071 ENST00000623390 5122013  5127927  -0.710 -1.008 -0.176\n",
       "18  21  ENSG00000280071 ENST00000622915 5124486  5125178   0.568 -0.154 -1.002\n",
       "19  21  ENSG00000276612 ENST00000623476 5116343  5133805  -0.092 -3.488 -0.125\n",
       "20  21  ENSG00000275464 ENST00000617716 5130871  5154734   0.793  0.879 -0.853\n",
       "21  21  ENSG00000275464 ENST00000632537 5133453  5136043   0.975  0.975  0.111\n",
       "22  21  ENSG00000275464 ENST00000623011 5134199  5142896  -1.048 -1.459 -1.045\n",
       "23  21  ENSG00000275464 ENST00000624312 5136988  5137939   0.401  0.455  0.416\n",
       "24  21  ENSG00000275464 ENST00000633442 5143222  5144724   0.975  1.086  0.975\n",
       "25  21  ENSG00000275464 ENST00000633593 5143222  5145445   0.975  1.086  0.975\n",
       "26  21  ENSG00000275464 ENST00000634020 5147349  5154527   0.947 -0.136  0.017\n",
       "27  21  ENSG00000275464 ENST00000634021 5147390  5154247   1.086  0.088  0.947\n",
       "28  21  ENSG00000280433 ENST00000623998 5155499  5163695  -0.556 -0.336  0.947\n",
       "29  21  ENSG00000280433 ENST00000623744 5157012  5165472  -0.018  0.883 -0.152\n",
       "30  21  ENSG00000279669 ENST00000623753 5232668  5243833   0.253 -0.862 -0.771\n",
       "... ... ...             ...             ...      ...      ...    ...    ...   \n",
       "970 21  ENSG00000159110 ENST00000447980 33230409 33248854  0.435  0.383  0.398\n",
       "971 21  ENSG00000159110 ENST00000417007 33248744 33262757  0.133  0.133  0.133\n",
       "972 21  ENSG00000249624 ENST00000646150 33229901 33297160 -0.807 -0.233  0.231\n",
       "973 21  ENSG00000249624 ENST00000433395 33246774 33283212  0.152  0.184  0.164\n",
       "974 21  ENSG00000249624 ENST00000432231 33248715 33283212  0.133  0.133  0.133\n",
       "975 21  ENSG00000223799 ENST00000411998 33263873 33266260 -0.017 -0.744  0.021\n",
       "976 21  ENSG00000243646 ENST00000290200 33266358 33297234 -1.028 -1.453  0.028\n",
       "977 21  ENSG00000243646 ENST00000422891 33266382 33296239  0.810  0.029 -0.090\n",
       "978 21  ENSG00000243646 ENST00000493295 33267928 33296953  0.034  1.176  0.228\n",
       "979 21  ENSG00000243646 ENST00000498371 33268282 33288120  1.109 -0.920  0.113\n",
       "980 21  ENSG00000243646 ENST00000451065 33276612 33296350  0.815  0.900  0.815\n",
       "981 21  ENSG00000243646 ENST00000637650 33288133 33310187  0.700 -0.662 -0.111\n",
       "982 21  ENSG00000243646 ENST00000609556 33288133 33310187  0.700 -0.662 -0.111\n",
       "983 21  ENSG00000142166 ENST00000493503 33324477 33335611  0.555  0.555  0.503\n",
       "984 21  ENSG00000142166 ENST00000270139 33324904 33359862  0.602  0.685  0.685\n",
       "985 21  ENSG00000142166 ENST00000442071 33324973 33345277 -0.513 -0.230 -0.230\n",
       "986 21  ENSG00000226501 ENST00000451645 33334571 33335096  0.997  0.627  0.690\n",
       "987 21  ENSG00000159128 ENST00000290219 33402896 33437521 -0.681  0.662 -0.104\n",
       "988 21  ENSG00000159128 ENST00000439213 33403427 33432216  0.662 -0.267  0.757\n",
       "989 21  ENSG00000159128 ENST00000381995 33403432 33437521 -0.699  0.757  0.685\n",
       "990 21  ENSG00000159128 ENST00000545369 33403441 33436944  0.561 -0.159 -0.159\n",
       "991 21  ENSG00000159128 ENST00000405436 33403466 33437502 -0.053 -0.747 -2.356\n",
       "992 21  ENSG00000159128 ENST00000421802 33432319 33479348 -0.198  0.206 -0.153\n",
       "993 21  ENSG00000142188 ENST00000484377 33432485 33448964  1.312  1.176  0.200\n",
       "994 21  ENSG00000142188 ENST00000420455 33432485 33479943  1.312  1.176  0.200\n",
       "995 21  ENSG00000142188 ENST00000470682 33432798 33449410 -0.160  1.151  1.284\n",
       "996 21  ENSG00000142188 ENST00000468874 33436884 33449189  0.170  0.184  0.152\n",
       "997 21  ENSG00000142188 ENST00000542230 33449135 33480011  0.776 -0.081 -0.084\n",
       "998 21  ENSG00000142188 ENST00000441128 33450521 33468926  0.708  0.809 -0.022\n",
       "999 21  ENSG00000142188 ENST00000442441 33450547 33479936  0.981 -0.291  0.100\n",
       "    3      4     \n",
       "1    0.653 -0.117\n",
       "2   -0.319  0.512\n",
       "3   -0.319  0.512\n",
       "4    0.579 -0.319\n",
       "5    0.602  0.684\n",
       "6    0.602  0.662\n",
       "7    0.575 -0.808\n",
       "8    0.353  0.353\n",
       "9    0.353  0.353\n",
       "10  -1.284 -0.687\n",
       "11  -1.284 -0.687\n",
       "12  -0.601  0.868\n",
       "13   0.265  0.288\n",
       "14   0.265  0.288\n",
       "15   0.236 -2.125\n",
       "16  -0.660 -0.127\n",
       "17  -0.172 -0.175\n",
       "18  -0.920 -1.029\n",
       "19  -0.300 -1.018\n",
       "20  -0.948 -0.533\n",
       "21   0.855  0.152\n",
       "22  -0.783 -1.555\n",
       "23  -0.433  0.401\n",
       "24  -0.684  0.855\n",
       "25  -0.684  0.855\n",
       "26   0.947  0.947\n",
       "27   0.975  0.068\n",
       "28   0.067  1.086\n",
       "29  -0.266  0.678\n",
       "30   0.310  0.253\n",
       "... ...    ...   \n",
       "970  0.435 -2.675\n",
       "971  0.133  0.138\n",
       "972  0.074  0.941\n",
       "973  0.184 -1.239\n",
       "974  0.124  0.124\n",
       "975 -0.653  0.818\n",
       "976 -0.962  0.971\n",
       "977 -0.018 -0.361\n",
       "978  0.194  0.131\n",
       "979  0.212 -0.210\n",
       "980 -0.849 -0.367\n",
       "981 -0.157 -0.154\n",
       "982 -0.157 -0.154\n",
       "983 -0.263  0.490\n",
       "984 -0.206 -0.224\n",
       "985  0.591 -0.169\n",
       "986  0.627 -0.165\n",
       "987 -0.722 -0.193\n",
       "988  0.602  0.602\n",
       "989  0.662  0.685\n",
       "990  0.542 -0.233\n",
       "991  0.757  0.685\n",
       "992 -0.186  0.138\n",
       "993 -0.162 -0.035\n",
       "994 -0.162 -0.035\n",
       "995  1.115  0.207\n",
       "996  0.164  0.164\n",
       "997  0.776  0.704\n",
       "998  0.780  0.856\n",
       "999 -0.277 -4.145"
      ]
     },
     "metadata": {},
     "output_type": "display_data"
    }
   ],
   "source": [
    "temp"
   ]
  },
  {
   "cell_type": "code",
   "execution_count": null,
   "metadata": {
    "collapsed": true
   },
   "outputs": [],
   "source": []
  }
 ],
 "metadata": {
  "kernelspec": {
   "display_name": "R",
   "language": "R",
   "name": "ir"
  },
  "language_info": {
   "codemirror_mode": "r",
   "file_extension": ".r",
   "mimetype": "text/x-r-source",
   "name": "R",
   "pygments_lexer": "r",
   "version": "3.4.3"
  }
 },
 "nbformat": 4,
 "nbformat_minor": 2
}
